{
  "nbformat": 4,
  "nbformat_minor": 0,
  "metadata": {
    "colab": {
      "name": "Copia_para_Jesus_Solving_HD_DPP_using_Deep_Learning.ipynb",
      "provenance": [],
      "collapsed_sections": [],
      "include_colab_link": true
    },
    "kernelspec": {
      "display_name": "Python 3",
      "name": "python3"
    },
    "language_info": {
      "name": "python"
    }
  },
  "cells": [
    {
      "cell_type": "markdown",
      "metadata": {
        "id": "view-in-github",
        "colab_type": "text"
      },
      "source": [
        "<a href=\"https://colab.research.google.com/github/dleegithub/NeuralNetworkTutorial/blob/main/Copia_para_Jesus_Solving_HD_DPP_using_Deep_Learning.ipynb\" target=\"_parent\"><img src=\"https://colab.research.google.com/assets/colab-badge.svg\" alt=\"Open In Colab\"/></a>"
      ]
    },
    {
      "cell_type": "markdown",
      "metadata": {
        "id": "wELCHw9o6Gp9"
      },
      "source": [
        "# Solving High-Dimensional Dynamic Programming Problems using Deep Learning\n",
        "\n",
        "If you spot any mistakes, please email me at r.maura-rivero@lse.ac.uk .\n",
        "\n",
        "To run the entire notebook yourself, use Ctrl + 9, or go cell by cell executing with a click. \n",
        "\n",
        "## Why are you using Google Colab?\n",
        "\n",
        "With Colab you can play with this code without installing anything. From any browser. \n",
        "\n",
        "If you want a tutorial (although it is not needed), visit https://research.google.com/colaboratory/ . \n",
        " "
      ]
    },
    {
      "cell_type": "markdown",
      "metadata": {
        "id": "7EBunqmxAUd5"
      },
      "source": [
        "\n",
        "## Introduction\n",
        "The problem that we are trying to solve in this notebook is the Neoclassical Growth Model:\n",
        "\n",
        "\n",
        "\n",
        "\n",
        "\n",
        "> $\\rho V(k)=\\max_{c}U(c)+V'(k)[F(k)-\\delta k-c]$\n",
        "\n",
        "To do so, we will approximate both the value function and the consumption with a neural network\n",
        "\n",
        "> $\\tilde{C}(k;\\Theta^{C})$  \\\\\n",
        "> $\\tilde{V}(k;\\Theta^{V})$\n",
        "\n",
        "\n",
        "\n",
        "\n"
      ]
    },
    {
      "cell_type": "code",
      "metadata": {
        "id": "4fC2yC1zWYMS"
      },
      "source": [
        "#########################################################################################\n",
        "# Authors: Maximilian J. Vogler, George L. Sorg-Langhans, Roberto-Rafael Maura-Rivero   #\n",
        "# Start Date: 04/19/2020\t\t\t\t\t\t\t                    \t\t\t\t#\n",
        "# Last Modification Date: 09/10/2021\t\t\t\t\t\t\t\t\t\t            #\n",
        "# Purpose: Run NGM code with consumption network\t\t\t\t\t\t\t            #\n",
        "#########################################################################################\n",
        "\n",
        "## Import libraries\n",
        "import matplotlib\n",
        "#matplotlib.use('TkAgg') # Required to make it run on both Windows and Mac\n",
        "import matplotlib.pyplot as plt\n",
        "import tensorflow as tf \n",
        "from tensorflow import keras\n",
        "import numpy as np \n",
        "import os\n",
        "from tqdm import trange\n",
        "\n",
        "# Switch of unnecessary TF warning messages\n",
        "os.environ['TF_CPP_MIN_LOG_LEVEL'] = '2'"
      ],
      "execution_count": null,
      "outputs": []
    },
    {
      "cell_type": "markdown",
      "metadata": {
        "id": "_DBETHa6kNNp"
      },
      "source": [
        "**Parameters of the model:**\n",
        "\n",
        "$\\gamma=2.0 \\quad$ risk-aversion parameter \n",
        "\n",
        "$\\rho=0.04 \\quad$ \ttime preference parameter\n",
        "\n",
        "$\\delta = 0.05 \\quad$ \tcapital depreciation \n",
        "\n",
        "$ \\text{TFP} =\t0.5 \\quad$ \tcapital depreciation (A)\n"
      ]
    },
    {
      "cell_type": "code",
      "source": [
        ""
      ],
      "metadata": {
        "id": "n02ampAhXZHr"
      },
      "execution_count": null,
      "outputs": []
    },
    {
      "cell_type": "code",
      "metadata": {
        "id": "nvHsRNFAWLNe"
      },
      "source": [
        "###############################################################################\n",
        "################################## Parameters #################################\n",
        "###############################################################################\n",
        "\n",
        "gamma = tf.constant(2.0)           # Curvature of the utility function\n",
        "rho   = tf.constant(0.04)          # Discount rate\n",
        "A      = tf.constant(0.5)          # TFP\n",
        "alpha = tf.constant(0.36)          # Returns to scale\n",
        "delta = tf.constant(0.05)          # Depreciation Rate of Capital\n",
        "\n",
        "batchSize = 1000                   # Batch Size\n",
        "number_epochs = 200000            # Number of epochs\n",
        "lowest_iteration = 0\n",
        "min_loss = 100000\n",
        "\n",
        "kMin = 0.1                         # lower bound of sample interval\n",
        "kMax = 10.0                        # upper bound of sample interval\n",
        "\n",
        "gridSize = 10000                  # Plotting grid\n",
        "\n",
        "# Set global seed\n",
        "tf.random.set_seed(42)\n",
        "np.random.seed(42)\n",
        "\n",
        "# Value function initial guess\n",
        "VFInitGuess = -60\n",
        "\n",
        "# Neural network optimizer\n",
        "optimizer = keras.optimizers.Adam()\n",
        "\n",
        "# ergodic distribution estimation\n",
        "nBurnedIter = 0                    # number of periods iterated to move away from starting point (called B1 in the paper)"
      ],
      "execution_count": null,
      "outputs": []
    },
    {
      "cell_type": "markdown",
      "metadata": {
        "id": "ZSGnX1O3kwKe"
      },
      "source": [
        "Now we will define a function  *valueFnNeuralNet()*  that provides us with a NN when called. This particular NN has 3 hidden layers and 8 neurons per hidden layer."
      ]
    },
    {
      "cell_type": "code",
      "metadata": {
        "id": "bjm7ACsVkzv6"
      },
      "source": [
        "###############################################################################\n",
        "######################## Value Function Neural Network ########################\n",
        "###############################################################################\n",
        "\n",
        "def NeuralNet(nHidden = 3, nNeurons = 8, initGuess = 0):\n",
        "\tmodel = keras.models.Sequential()\n",
        "\n",
        "\t# Input layer\n",
        "\tmodel.add(keras.layers.Dense(nNeurons, activation = \"tanh\", input_dim = 1))\n",
        "\n",
        "\t# Hiden layers\n",
        "\tfor layer in range(nHidden - 1):\n",
        "\t\tmodel.add(keras.layers.Dense(nNeurons, activation = \"tanh\"))\n",
        "\n",
        "\t# Output layer\n",
        "\tmodel.add(keras.layers.Dense(1,bias_initializer = keras.initializers.Constant(value = initGuess)))\n",
        "\treturn model"
      ],
      "execution_count": null,
      "outputs": []
    },
    {
      "cell_type": "markdown",
      "metadata": {
        "id": "IafnbEl0kj4Q"
      },
      "source": [
        "Now we will define the Loss function. Like in the paper, this will be the addition of 2 errors: the HJB error (that is, by how much the HJB equation doesn't hold) and the boundary condition ($k(t) \\geq 0 , \\forall t$). \\\\\n",
        "\n",
        "\n",
        "\n",
        "*  $err_{HJB}=\\rho\\tilde{V}(k;\\Theta)-U\\left((U')^{-1}\\left(\\frac{\\partial\\tilde{V}(k;\\Theta)}{\\partial k}\\right)\\right) -\\frac{\\partial\\tilde{V}(k;\\Theta)}{\\partial k}\\left[F(k)-\\delta k-(U')^{-1}\\left(\\frac{\\partial\\tilde{V}(k;\\Theta)}{\\partial k}\\right)\\right]$\n",
        "*   $err_{\\text{boundary}} =  \\text{min} \\{ 0, k(t+dt) \\}$\n",
        "\n",
        "* $err_{C} = C - U^{-1} \\left( V'(k)\\right)$\n",
        "\n",
        "* $Loss = \\left\\lVert err_{HJB} \\right\\rVert + \\Psi \\times \\left\\lVert err_{\\text{boundary}} \\right\\rVert$\n",
        "\n",
        "Where, \n",
        "$$ k(t+dt) = k(t) + dt \\times \\frac{\\partial k(t)}{\\partial t}$$\n",
        "\n",
        "and $\\Psi$ is a large penalization value. The reason behind the need for this value $\\Psi$ is the following: an equality condition numerically will (almost) never hold in the computer. It can get very close, but we really do not expect to get 0 error here. However, an inequality condition is a different business. The equation can be (and should be) holding. To express this, we give a bigger weight to the inequality boundary condition. \\\\\n",
        "\n",
        "\n",
        "Alternatively, **in this particular exercise**, we could also rewrite the boundary condition as $\\exists \\epsilon > 0 \\left( k(t) \\leq \\epsilon \\Rightarrow \\dot{k}(t)\\geq 0 \\right)$. This would speed up the convergence. However, we choose the previous method given that it covers more general dynamic programming problems (e.g. a situation where the capital slowly decreases until it reaches 0). \n",
        "\n",
        "Under the alternative case, \n",
        "\n",
        "*   $err_{\\text{boundary}} = 0\\quad \\quad  \\text{if} \\quad k\\geq\\epsilon$ \n",
        "* $err_{\\text{boundary}} = \\min \\left \\{0, \\dot{k}\\right \\} \\\\ = \\min \\left \\{0, \\left[F(k)-\\delta k-(U')^{-1}\\left(\\frac{\\partial\\tilde{V}(k;\\Theta)}{\\partial k}\\right)\\right]\\right \\} \\quad \\text{if} \\quad k<\\epsilon$ "
      ]
    },
    {
      "cell_type": "code",
      "metadata": {
        "id": "7DPaMACDYYjX"
      },
      "source": [
        "def HJB(k_capital, V, C):\n",
        "    VPrime = tf.gradients(V(k_capital), k_capital)[0]\n",
        "    # VPrimemax = tf.maximum(VPrime, 1E-7)\t\t# dV/dk\n",
        "\n",
        "    Y = A * tf.pow(k_capital, alpha)\t\t\t\t# Output\n",
        "\n",
        "    I = Y - tf.exp(C(k_capital))\t\t\t\t\t# Investment\n",
        "\n",
        "    muK = I - delta * k_capital  \t\t\t\t\t# Capital drift\n",
        "\n",
        "    U = tf.pow(tf.exp(C(k_capital)), 1-gamma) / (1-gamma) \t# Utility\n",
        "    # HJB = U - rho * V(k_capital) + tf.multiply(tf.stop_gradient(VPrimemax), muK)\n",
        "    HJB = U - rho * V(k_capital) + tf.multiply(tf.stop_gradient(VPrime), muK)\n",
        "    return HJB \n",
        "\n",
        "def ergodic_distribution(k_capital, V, C): \n",
        "    # iterate the points to estimate the ergodic distribution\n",
        "    for i in range(nBurnedIter):    \n",
        "        VPrime = tf.gradients(V(k_capital), k_capital)[0]\n",
        "        VPrimemax = tf.maximum(VPrime, 1E-7)\t\t    # dV/dk\n",
        "        Y = A * tf.pow(k_capital, alpha)\t\t\t\t# Output\n",
        "        I = Y - tf.exp(C(k_capital)) \t\t\t\t    # Investment\n",
        "        dK_dt = I - delta * k_capital  \t\t\t\t\t# Capital drift\n",
        "        k_capital = k_capital + tf.math.multiply(dt , dK_dt)    # k(t+1) = k(t) + dt*dK_dt\n",
        "    return k_capital\n",
        "\n",
        "\n",
        "def boundary_condition_ergodic_1_step (k_capital, V, C):\n",
        "    VPrime = tf.gradients(V(k_capital), k_capital)[0]\n",
        "    VPrimemax = tf.maximum(VPrime, 1E-7)\t\t# dV/dk\n",
        "    Y = A * tf.pow(k_capital, alpha)\t\t\t# Output\n",
        "    C = tf.exp(C(k_capital))        \t\t\t# Consumption\n",
        "    I = Y - C \t\t\t\t\t\t\t\t\t# Investment\n",
        "    dK_dt = I - delta * k_capital  \t\t\t\t# Capital drift\n",
        "    dt = 0.1\n",
        "    k_capital_t_plus_one = k_capital + tf.math.multiply(dt , dK_dt)\n",
        "\n",
        "    # we require kmin < k (t + 1) < kMax \n",
        "    error_lowerbound = tf.math.maximum(tf.constant([kMin]) - k_capital_t_plus_one, 0)\n",
        "    error_upperbound = tf.math.maximum(k_capital_t_plus_one - tf.constant([kMax]), 0)\n",
        "    error = error_lowerbound + error_upperbound\n",
        "    return error\n",
        "\n",
        "def boundary_condition(k_capital, V, C):\n",
        "    Y = A * tf.pow(k_capital, alpha)\t\t\t# Output\n",
        "    I = Y - tf.exp(C(k_capital)) \t\t\t\t# Investment\n",
        "    dK_dt = I - delta * k_capital  \t\t\t\t# Capital drift\n",
        "\n",
        "    epsilon = 1                                 # values close enought to 0 can't have decreasing capital\n",
        "\n",
        "    error = tf.where((k_capital < epsilon) & (dK_dt < 0) , dK_dt, 0)\n",
        "    return error\n",
        "\n",
        "def C_error(k_capital, V, C):\n",
        "\tVPrime = tf.gradients(V(k_capital), k_capital)[0]\n",
        "\tVPrimemax = tf.maximum(VPrime, 1E-7)\n",
        "\tC_err = tf.pow(VPrimemax, (-1/gamma)) - tf.exp(C(k_capital))\n",
        "\treturn C_err\n",
        "\n",
        "def Loss_function(batchSize):\n",
        "    k_capital = tf.random.uniform(shape = (batchSize,1), minval = kMin, maxval = kMax)\n",
        "    ergodic_k_capital = ergodic_distribution(k_capital, VF, CF)\n",
        "    errorV = HJB(ergodic_k_capital, VF, CF)\n",
        "    errorC = C_error(ergodic_k_capital, VF, CF)\n",
        "    # errorB = boundary_condition_ergodic_1_step(ergodic_k_capital, VF, CF)\n",
        "    errorB = boundary_condition(ergodic_k_capital, VF, CF)\n",
        "\n",
        "    lossV = tf.reduce_mean(tf.square(errorV))\n",
        "    lossC = tf.reduce_mean(tf.square(errorC))\n",
        "    lossB = tf.reduce_mean(tf.square(errorB))\n",
        "    total_loss = lossV + lossC + lossB\n",
        "    return lossV, lossC, lossB, total_loss "
      ],
      "execution_count": null,
      "outputs": []
    },
    {
      "cell_type": "code",
      "metadata": {
        "id": "jvDa2HdgW9dl",
        "colab": {
          "base_uri": "https://localhost:8080/"
        },
        "outputId": "179dfd08-ff7a-4212-a638-740eabe19801"
      },
      "source": [
        "###############################################################################\n",
        "################################ Training Step ################################\n",
        "###############################################################################\n",
        "\n",
        "# Need decorator to run in graph mode instead of eager exectution\n",
        "@tf.function\n",
        "def training_step():\n",
        "\twith tf.GradientTape(persistent = True) as tape:\n",
        "\t\tlossV, lossC, lossB, total_loss  = Loss_function(batchSize)\n",
        "\tgradsV = tape.gradient(total_loss, thetaVF)\n",
        "\tgradsC = tape.gradient(total_loss, thetaCF)\n",
        "\toptimizer.apply_gradients(zip(gradsV, thetaVF))\n",
        "\toptimizer.apply_gradients(zip(gradsC, thetaCF))\n",
        "\treturn lossV, lossC, lossB, total_loss\n",
        "\n",
        "###############################################################################\n",
        "################################ Training Loop ################################\n",
        "###############################################################################\n",
        "\n",
        "def train_model(epochs, min_loss):\n",
        "    lossesV = []\n",
        "    lossesC = []\n",
        "    lossesB = []\n",
        "    total_losses = []\n",
        "\n",
        "    # auxiliar NN that keeps track of the best approximation so far\n",
        "    best_VF = tf.keras.models.clone_model(VF)\n",
        "    best_CF = tf.keras.models.clone_model(CF)       \n",
        "       \n",
        "        \n",
        "    # set the first loss equal to infinity\n",
        "    min_loss = float(\"inf\")         \n",
        "    for epoch in trange(epochs):\n",
        "        lossV, lossC, lossB, total_loss = training_step()\n",
        "        if (total_loss < min_loss):\n",
        "            lowest_iteration = epoch\n",
        "            min_loss = total_loss\n",
        "            best_VF.set_weights(VF.get_weights())\n",
        "            best_CF.set_weights(CF.get_weights())\n",
        "            print(\"\\n best loss: \\t\", min_loss.numpy(), end=\"\\r\")\n",
        "        lossesV.append(lossV.numpy())\n",
        "        lossesC.append(lossC.numpy())\n",
        "        lossesB.append(lossB.numpy())\n",
        "        total_losses.append(total_loss.numpy())\n",
        "\n",
        "    return lossesV, lossesC, lossesB, total_losses, lowest_iteration, min_loss, best_VF, best_CF\n",
        "\n",
        "###############################################################################\n",
        "################################### Running ###################################\n",
        "###############################################################################\n",
        "\n",
        "# Set up neural network\n",
        "VF = NeuralNet(initGuess = VFInitGuess)\n",
        "CF = NeuralNet()\n",
        "\n",
        "# Define trainable network parameters\n",
        "thetaVF = VF.trainable_variables\n",
        "thetaCF = CF.trainable_variables\n",
        "\n",
        "# Run Model (and output loss evolution) \n",
        "lossesV, lossesC, lossesB, total_losses, min_loss_iteration, minimum_loss, best_VF, best_CF = train_model(number_epochs, min_loss)\n",
        "\n",
        "VF.set_weights(best_VF.get_weights())\n",
        "CF.set_weights(best_CF.get_weights())\n",
        "\n",
        "# print(results[2])\n",
        "# print(results[3])\n",
        "print('\\n')\n",
        "print(\"Value error: \", lossesV[-1])\n",
        "print(\"Consumption error : \", lossesC[-1])\n",
        "print(\"Boundary error : \", lossesB[-1])\n",
        "print(\"Sum of errors: \", total_losses[-1])\n"
      ],
      "execution_count": null,
      "outputs": [
        {
          "output_type": "stream",
          "name": "stderr",
          "text": [
            "  0%|          | 18/200000 [00:01<3:50:49, 14.44it/s]"
          ]
        },
        {
          "output_type": "stream",
          "name": "stdout",
          "text": [
            "\n",
            " best loss: \t 241.5111\r\n",
            " best loss: \t 161.10187\r\n",
            " best loss: \t 126.38816\r\n",
            " best loss: \t 104.25662\r\n",
            " best loss: \t 92.10062\r\n",
            " best loss: \t 73.56357\r\n",
            " best loss: \t 71.58039\r\n",
            " best loss: \t 59.716404\r\n",
            " best loss: \t 56.34759\r\n",
            " best loss: \t 53.90498\r\n",
            " best loss: \t 46.57962\r\n",
            " best loss: \t 43.467247\r\n",
            " best loss: \t 39.788193\r\n",
            " best loss: \t 36.4141\r\n",
            " best loss: \t 30.905058\r\n",
            " best loss: \t 28.33079\r\n",
            " best loss: \t 27.344109\r\n",
            " best loss: \t 24.822086\r\n",
            " best loss: \t 23.16691\r\n",
            " best loss: \t 21.906797\r\n",
            " best loss: \t 19.583012\r\n",
            " best loss: \t 19.11793\r\n",
            " best loss: \t 17.034859\r\n",
            " best loss: \t 16.376858\r\n",
            " best loss: \t 15.476963\r\n",
            " best loss: \t 14.338296\r\n",
            " best loss: \t 13.331598\r\n",
            " best loss: \t 12.29342\r\n",
            " best loss: \t 11.7752495\r\n",
            " best loss: \t 10.944388\r\n",
            " best loss: \t 10.675264\r\n",
            " best loss: \t"
          ]
        },
        {
          "output_type": "stream",
          "name": "stderr",
          "text": [
            "  0%|          | 54/200000 [00:01<1:03:58, 52.09it/s]"
          ]
        },
        {
          "output_type": "stream",
          "name": "stdout",
          "text": [
            " 9.603071\r\n",
            " best loss: \t 9.186499\r\n",
            " best loss: \t 8.584969\r\n",
            " best loss: \t 8.364306\r\n",
            " best loss: \t 7.960593\r\n",
            " best loss: \t 7.666651\r\n",
            " best loss: \t 7.4625463\r\n",
            " best loss: \t 6.9388905\r\n",
            " best loss: \t 6.8025427\r\n",
            " best loss: \t 6.7850666\r\n",
            " best loss: \t 6.66493\r\n",
            " best loss: \t 6.6311007\r\n",
            " best loss: \t 6.541284\r\n",
            " best loss: \t 6.5392466\r\n",
            " best loss: \t 6.3784165\r\n",
            " best loss: \t 6.303893\r\n",
            " best loss: \t 6.268721\r\n",
            " best loss: \t 6.266446\r\n",
            " best loss: \t 6.1516814\r\n",
            " best loss: \t 6.1276836\r\n",
            " best loss: \t 6.004394\r\n",
            " best loss: \t 5.917877\r\n",
            " best loss: \t 5.9081173\r\n",
            " best loss: \t 5.827003\r\n",
            " best loss: \t 5.8091164\r\n",
            " best loss: \t 5.7874093\r"
          ]
        },
        {
          "output_type": "stream",
          "name": "stderr",
          "text": [
            "  0%|          | 106/200000 [00:02<28:21, 117.48it/s]"
          ]
        },
        {
          "output_type": "stream",
          "name": "stdout",
          "text": [
            "\n",
            " best loss: \t 5.7611175\r\n",
            " best loss: \t 5.7258244\r\n",
            " best loss: \t 5.6634665\r\n",
            " best loss: \t 5.593255\r\n",
            " best loss: \t 5.5261025\r\n",
            " best loss: \t 5.5161405\r\n",
            " best loss: \t 5.4585123\r\n",
            " best loss: \t 5.3740683\r\n",
            " best loss: \t 5.3654404\r\n",
            " best loss: \t 5.3544436\r\n",
            " best loss: \t 5.3237033\r\n",
            " best loss: \t 5.3123994\r\n",
            " best loss: \t 5.276591\r\n",
            " best loss: \t 5.2015376\r\n",
            " best loss: \t 5.1914606\r\n",
            " best loss: \t 5.179274\r\n",
            " best loss: \t 5.1725326\r\n",
            " best loss: \t 5.157386\r"
          ]
        },
        {
          "output_type": "stream",
          "name": "stderr",
          "text": [
            "  0%|          | 156/200000 [00:02<20:00, 166.45it/s]"
          ]
        },
        {
          "output_type": "stream",
          "name": "stdout",
          "text": [
            "\n",
            " best loss: \t 5.141451\r\n",
            " best loss: \t 5.1314335\r\n",
            " best loss: \t 5.1165733\r\n",
            " best loss: \t 5.0916777\r\n",
            " best loss: \t 5.05624\r\n",
            " best loss: \t 5.0460935\r\n",
            " best loss: \t 5.031244\r\n",
            " best loss: \t 5.0166907\r\n",
            " best loss: \t 4.987075\r\n",
            " best loss: \t 4.984749\r\n",
            " best loss: \t 4.972192\r\n",
            " best loss: \t 4.9672346\r\n",
            " best loss: \t 4.9177556\r\n",
            " best loss: \t 4.898147\r\n",
            " best loss: \t 4.883677\r\n",
            " best loss: \t 4.875389\r\n",
            " best loss: \t 4.8551326\r\n",
            " best loss: \t 4.8185916\r\n",
            " best loss: \t 4.789716\r\n",
            " best loss: \t 4.7816358\r\n",
            " best loss: \t 4.7795787\r\n",
            " best loss: \t 4.733705\r\n",
            " best loss: \t 4.713298\r"
          ]
        },
        {
          "output_type": "stream",
          "name": "stderr",
          "text": [
            "  0%|          | 240/200000 [00:02<14:21, 231.82it/s]"
          ]
        },
        {
          "output_type": "stream",
          "name": "stdout",
          "text": [
            "\n",
            " best loss: \t 4.7007504\r\n",
            " best loss: \t 4.6750226\r\n",
            " best loss: \t 4.653991\r\n",
            " best loss: \t 4.653534\r\n",
            " best loss: \t 4.6381383\r\n",
            " best loss: \t 4.6377797\r\n",
            " best loss: \t 4.612848\r\n",
            " best loss: \t 4.609098\r\n",
            " best loss: \t 4.589765\r\n",
            " best loss: \t 4.5871243\r\n",
            " best loss: \t 4.580197\r\n",
            " best loss: \t 4.5688252\r\n",
            " best loss: \t 4.554467\r\n",
            " best loss: \t 4.542612\r\n",
            " best loss: \t 4.531644\r\n",
            " best loss: \t 4.530336\r\n",
            " best loss: \t 4.506175\r\n",
            " best loss: \t 4.501289\r\n",
            " best loss: \t 4.4887443\r\n",
            " best loss: \t 4.4819107\r\n",
            " best loss: \t 4.460387\r\n",
            " best loss: \t 4.4494576\r"
          ]
        },
        {
          "output_type": "stream",
          "name": "stderr",
          "text": [
            "  0%|          | 310/200000 [00:02<11:36, 286.71it/s]"
          ]
        },
        {
          "output_type": "stream",
          "name": "stdout",
          "text": [
            "\n",
            " best loss: \t 4.398626\r\n",
            " best loss: \t 4.382863\r\n",
            " best loss: \t 4.3781657\r\n",
            " best loss: \t 4.3625493\r\n",
            " best loss: \t 4.3374515\r\n",
            " best loss: \t 4.3286304\r\n",
            " best loss: \t 4.327924\r\n",
            " best loss: \t 4.300623\r\n",
            " best loss: \t 4.2868958\r\n",
            " best loss: \t 4.2683835\r\n",
            " best loss: \t 4.2650795\r\n",
            " best loss: \t 4.2634897\r\n",
            " best loss: \t 4.2539268\r"
          ]
        },
        {
          "output_type": "stream",
          "name": "stderr",
          "text": [
            "  0%|          | 377/200000 [00:03<10:51, 306.57it/s]"
          ]
        },
        {
          "output_type": "stream",
          "name": "stdout",
          "text": [
            "\n",
            " best loss: \t 4.234672\r\n",
            " best loss: \t 4.2301583\r\n",
            " best loss: \t 4.2134833\r\n",
            " best loss: \t 4.194615\r\n",
            " best loss: \t 4.189318\r\n",
            " best loss: \t 4.1833467\r\n",
            " best loss: \t 4.182021\r\n",
            " best loss: \t 4.1730957\r\n",
            " best loss: \t 4.1687956\r\n",
            " best loss: \t 4.16605\r\n",
            " best loss: \t 4.1614947\r\n",
            " best loss: \t 4.155197\r\n",
            " best loss: \t 4.1403704\r\n",
            " best loss: \t 4.1362076\r"
          ]
        },
        {
          "output_type": "stream",
          "name": "stderr",
          "text": [
            "  0%|          | 446/200000 [00:03<10:22, 320.79it/s]"
          ]
        },
        {
          "output_type": "stream",
          "name": "stdout",
          "text": [
            "\n",
            " best loss: \t 4.134035\r\n",
            " best loss: \t 4.112381\r\n",
            " best loss: \t 4.1086245\r\n",
            " best loss: \t 4.093184\r\n",
            " best loss: \t 4.089403\r\n",
            " best loss: \t 4.089383\r\n",
            " best loss: \t 4.0723186\r\n",
            " best loss: \t 4.062989\r\n",
            " best loss: \t 4.057061\r\n",
            " best loss: \t 4.0528264\r\n",
            " best loss: \t 4.025274\r"
          ]
        },
        {
          "output_type": "stream",
          "name": "stderr",
          "text": [
            "  0%|          | 524/200000 [00:03<09:26, 352.43it/s]"
          ]
        },
        {
          "output_type": "stream",
          "name": "stdout",
          "text": [
            "\n",
            " best loss: \t 4.023843\r\n",
            " best loss: \t 3.9948454\r\n",
            " best loss: \t 3.988864\r\n",
            " best loss: \t 3.984266\r\n",
            " best loss: \t 3.9841614\r\n",
            " best loss: \t 3.961797\r\n",
            " best loss: \t 3.9469106\r\n",
            " best loss: \t 3.9387672\r"
          ]
        },
        {
          "output_type": "stream",
          "name": "stderr",
          "text": [
            "  0%|          | 602/200000 [00:03<09:05, 365.32it/s]"
          ]
        },
        {
          "output_type": "stream",
          "name": "stdout",
          "text": [
            "\n",
            " best loss: \t 3.9274323\r\n",
            " best loss: \t 3.9254103\r\n",
            " best loss: \t 3.9165092\r\n",
            " best loss: \t 3.915209\r\n",
            " best loss: \t 3.8880343\r\n",
            " best loss: \t 3.881567\r\n",
            " best loss: \t 3.8770812\r\n",
            " best loss: \t 3.868913\r"
          ]
        },
        {
          "output_type": "stream",
          "name": "stderr",
          "text": [
            "  0%|          | 721/200000 [00:03<08:40, 382.54it/s]"
          ]
        },
        {
          "output_type": "stream",
          "name": "stdout",
          "text": [
            "\n",
            " best loss: \t 3.8476844\r\n",
            " best loss: \t 3.846468\r\n",
            " best loss: \t 3.8426306\r\n",
            " best loss: \t 3.8390596\r\n",
            " best loss: \t 3.837504\r\n",
            " best loss: \t 3.8169184\r\n",
            " best loss: \t 3.8054447\r\n",
            " best loss: \t 3.8025775\r"
          ]
        },
        {
          "output_type": "stream",
          "name": "stderr",
          "text": [
            "  0%|          | 803/200000 [00:04<08:30, 389.82it/s]"
          ]
        },
        {
          "output_type": "stream",
          "name": "stdout",
          "text": [
            "\n",
            " best loss: \t 3.799357\r\n",
            " best loss: \t 3.7959433\r\n",
            " best loss: \t 3.7789004\r\n",
            " best loss: \t 3.7633686\r\n",
            " best loss: \t 3.7632773\r\n",
            " best loss: \t 3.7135522\r"
          ]
        },
        {
          "output_type": "stream",
          "name": "stderr",
          "text": [
            "  0%|          | 931/200000 [00:04<07:59, 415.54it/s]"
          ]
        },
        {
          "output_type": "stream",
          "name": "stdout",
          "text": [
            "\n",
            " best loss: \t 3.706688\r\n",
            " best loss: \t 3.7022705\r\n",
            " best loss: \t 3.6587698\r"
          ]
        },
        {
          "output_type": "stream",
          "name": "stderr",
          "text": [
            "  1%|          | 1020/200000 [00:04<07:41, 430.72it/s]"
          ]
        },
        {
          "output_type": "stream",
          "name": "stdout",
          "text": [
            "\n",
            " best loss: \t 3.6333818\r\n",
            " best loss: \t 3.629775\r\n",
            " best loss: \t 3.5851932\r"
          ]
        },
        {
          "output_type": "stream",
          "name": "stderr",
          "text": [
            "  1%|          | 1155/200000 [00:04<07:35, 436.76it/s]"
          ]
        },
        {
          "output_type": "stream",
          "name": "stdout",
          "text": [
            "\n",
            " best loss: \t 3.5651941\r"
          ]
        },
        {
          "output_type": "stream",
          "name": "stderr",
          "text": [
            "  1%|          | 1247/200000 [00:05<07:25, 446.38it/s]"
          ]
        },
        {
          "output_type": "stream",
          "name": "stdout",
          "text": [
            "\n",
            " best loss: \t 3.5319679\r"
          ]
        },
        {
          "output_type": "stream",
          "name": "stderr",
          "text": [
            "  1%|          | 1342/200000 [00:05<07:17, 453.97it/s]"
          ]
        },
        {
          "output_type": "stream",
          "name": "stdout",
          "text": [
            "\n",
            " best loss: \t 3.5257425\r\n",
            " best loss: \t 3.522929\r\n",
            " best loss: \t 3.4980185\r"
          ]
        },
        {
          "output_type": "stream",
          "name": "stderr",
          "text": [
            "  1%|          | 1435/200000 [00:05<07:26, 444.80it/s]"
          ]
        },
        {
          "output_type": "stream",
          "name": "stdout",
          "text": [
            "\n",
            " best loss: \t 3.484598\r\n",
            " best loss: \t 3.4754467\r\n",
            " best loss: \t 3.457325\r"
          ]
        },
        {
          "output_type": "stream",
          "name": "stderr",
          "text": [
            "  1%|          | 1619/200000 [00:06<07:29, 441.48it/s]"
          ]
        },
        {
          "output_type": "stream",
          "name": "stdout",
          "text": [
            "\n",
            " best loss: \t 3.4402678\r\n",
            " best loss: \t 3.4324458\r\n",
            " best loss: \t 3.4251347\r\n",
            " best loss: \t 3.4108286\r"
          ]
        },
        {
          "output_type": "stream",
          "name": "stderr",
          "text": [
            "  1%|          | 1711/200000 [00:06<07:24, 446.05it/s]"
          ]
        },
        {
          "output_type": "stream",
          "name": "stdout",
          "text": [
            "\n",
            " best loss: \t 3.4016206\r"
          ]
        },
        {
          "output_type": "stream",
          "name": "stderr",
          "text": [
            "  1%|          | 1847/200000 [00:06<07:26, 443.92it/s]"
          ]
        },
        {
          "output_type": "stream",
          "name": "stdout",
          "text": [
            "\n",
            " best loss: \t 3.3950827\r\n",
            " best loss: \t 3.356657\r"
          ]
        },
        {
          "output_type": "stream",
          "name": "stderr",
          "text": [
            "  1%|          | 1940/200000 [00:06<07:21, 448.66it/s]"
          ]
        },
        {
          "output_type": "stream",
          "name": "stdout",
          "text": [
            "\n",
            " best loss: \t 3.3474798\r\n",
            " best loss: \t 3.3402069\r\n",
            " best loss: \t 3.3220918\r"
          ]
        },
        {
          "output_type": "stream",
          "name": "stderr",
          "text": [
            "  1%|          | 2075/200000 [00:07<07:25, 444.09it/s]"
          ]
        },
        {
          "output_type": "stream",
          "name": "stdout",
          "text": [
            "\n",
            " best loss: \t 3.3070326\r\n",
            " best loss: \t 3.2403657\r"
          ]
        },
        {
          "output_type": "stream",
          "name": "stderr",
          "text": [
            "  1%|          | 2450/200000 [00:07<07:09, 459.95it/s]"
          ]
        },
        {
          "output_type": "stream",
          "name": "stdout",
          "text": [
            "\n",
            " best loss: \t 3.216419\r"
          ]
        },
        {
          "output_type": "stream",
          "name": "stderr",
          "text": [
            "  1%|▏         | 2543/200000 [00:08<07:17, 451.24it/s]"
          ]
        },
        {
          "output_type": "stream",
          "name": "stdout",
          "text": [
            "\n",
            " best loss: \t 3.1840503\r"
          ]
        },
        {
          "output_type": "stream",
          "name": "stderr",
          "text": [
            "  1%|▏         | 2633/200000 [00:08<07:35, 433.65it/s]"
          ]
        },
        {
          "output_type": "stream",
          "name": "stdout",
          "text": [
            "\n",
            " best loss: \t 3.155807\r\n",
            " best loss: \t 3.146236\r"
          ]
        },
        {
          "output_type": "stream",
          "name": "stderr",
          "text": [
            "  1%|▏         | 2864/200000 [00:08<07:11, 456.36it/s]"
          ]
        },
        {
          "output_type": "stream",
          "name": "stdout",
          "text": [
            "\n",
            " best loss: \t 3.1396976\r\n",
            " best loss: \t 3.1328228\r"
          ]
        },
        {
          "output_type": "stream",
          "name": "stderr",
          "text": [
            "  1%|▏         | 2955/200000 [00:09<07:28, 438.95it/s]"
          ]
        },
        {
          "output_type": "stream",
          "name": "stdout",
          "text": [
            "\n",
            " best loss: \t 3.1143382\r\n",
            " best loss: \t 3.0556273\r"
          ]
        },
        {
          "output_type": "stream",
          "name": "stderr",
          "text": [
            "  2%|▏         | 3221/200000 [00:09<07:45, 422.38it/s]"
          ]
        },
        {
          "output_type": "stream",
          "name": "stdout",
          "text": [
            "\n",
            " best loss: \t 3.0503535\r\n",
            " best loss: \t 3.0235307\r"
          ]
        },
        {
          "output_type": "stream",
          "name": "stderr",
          "text": [
            "  2%|▏         | 3406/200000 [00:10<07:17, 449.76it/s]"
          ]
        },
        {
          "output_type": "stream",
          "name": "stdout",
          "text": [
            "\n",
            " best loss: \t 3.0170698\r\n",
            " best loss: \t 3.0157537\r"
          ]
        },
        {
          "output_type": "stream",
          "name": "stderr",
          "text": [
            "  2%|▏         | 3496/200000 [00:10<07:36, 430.55it/s]"
          ]
        },
        {
          "output_type": "stream",
          "name": "stdout",
          "text": [
            "\n",
            " best loss: \t 3.0057855\r\n",
            " best loss: \t 2.993404\r"
          ]
        },
        {
          "output_type": "stream",
          "name": "stderr",
          "text": [
            "  2%|▏         | 3586/200000 [00:10<07:31, 434.84it/s]"
          ]
        },
        {
          "output_type": "stream",
          "name": "stdout",
          "text": [
            "\n",
            " best loss: \t 2.9722815\r\n",
            " best loss: \t 2.9463742\r"
          ]
        },
        {
          "output_type": "stream",
          "name": "stderr",
          "text": [
            "  2%|▏         | 3720/200000 [00:10<07:27, 438.75it/s]"
          ]
        },
        {
          "output_type": "stream",
          "name": "stdout",
          "text": [
            "\n",
            " best loss: \t 2.934667\r\n",
            " best loss: \t 2.899335\r\n",
            " best loss: \t 2.8811793\r"
          ]
        },
        {
          "output_type": "stream",
          "name": "stderr",
          "text": [
            "  2%|▏         | 4144/200000 [00:11<07:07, 458.51it/s]"
          ]
        },
        {
          "output_type": "stream",
          "name": "stdout",
          "text": [
            "\n",
            " best loss: \t 2.839348\r"
          ]
        },
        {
          "output_type": "stream",
          "name": "stderr",
          "text": [
            "  2%|▏         | 4236/200000 [00:11<07:20, 444.59it/s]"
          ]
        },
        {
          "output_type": "stream",
          "name": "stdout",
          "text": [
            "\n",
            " best loss: \t 2.8373783\r\n",
            " best loss: \t 2.8248985\r\n",
            " best loss: \t 2.8214226\r"
          ]
        },
        {
          "output_type": "stream",
          "name": "stderr",
          "text": [
            "  2%|▏         | 4422/200000 [00:12<07:15, 448.85it/s]"
          ]
        },
        {
          "output_type": "stream",
          "name": "stdout",
          "text": [
            "\n",
            " best loss: \t 2.7794414\r"
          ]
        },
        {
          "output_type": "stream",
          "name": "stderr",
          "text": [
            "  2%|▏         | 4561/200000 [00:12<07:21, 442.33it/s]"
          ]
        },
        {
          "output_type": "stream",
          "name": "stdout",
          "text": [
            "\n",
            " best loss: \t 2.775064\r\n",
            " best loss: \t 2.7668648\r"
          ]
        },
        {
          "output_type": "stream",
          "name": "stderr",
          "text": [
            "  2%|▏         | 4696/200000 [00:12<07:24, 439.00it/s]"
          ]
        },
        {
          "output_type": "stream",
          "name": "stdout",
          "text": [
            "\n",
            " best loss: \t 2.7665374\r\n",
            " best loss: \t 2.746201\r\n",
            " best loss: \t 2.742677\r\n",
            " best loss: \t 2.7279983\r\n",
            " best loss: \t 2.7205944\r"
          ]
        },
        {
          "output_type": "stream",
          "name": "stderr",
          "text": [
            "  2%|▏         | 4926/200000 [00:13<07:22, 440.59it/s]"
          ]
        },
        {
          "output_type": "stream",
          "name": "stdout",
          "text": [
            "\n",
            " best loss: \t 2.6852846\r\n",
            " best loss: \t 2.6533098\r"
          ]
        },
        {
          "output_type": "stream",
          "name": "stderr",
          "text": [
            "  3%|▎         | 5109/200000 [00:13<07:15, 447.77it/s]"
          ]
        },
        {
          "output_type": "stream",
          "name": "stdout",
          "text": [
            "\n",
            " best loss: \t 2.645709\r\n",
            " best loss: \t 2.6431816\r\n",
            " best loss: \t 2.63271\r"
          ]
        },
        {
          "output_type": "stream",
          "name": "stderr",
          "text": [
            "  3%|▎         | 5246/200000 [00:14<07:19, 443.42it/s]"
          ]
        },
        {
          "output_type": "stream",
          "name": "stdout",
          "text": [
            "\n",
            " best loss: \t 2.6245766\r\n",
            " best loss: \t 2.6087544\r\n",
            " best loss: \t 2.5764608\r"
          ]
        },
        {
          "output_type": "stream",
          "name": "stderr",
          "text": [
            "  3%|▎         | 5336/200000 [00:14<07:23, 438.74it/s]"
          ]
        },
        {
          "output_type": "stream",
          "name": "stdout",
          "text": [
            "\n",
            " best loss: \t 2.5419614\r"
          ]
        },
        {
          "output_type": "stream",
          "name": "stderr",
          "text": [
            "  3%|▎         | 5427/200000 [00:14<07:26, 435.66it/s]"
          ]
        },
        {
          "output_type": "stream",
          "name": "stdout",
          "text": [
            "\n",
            " best loss: \t 2.485481\r"
          ]
        },
        {
          "output_type": "stream",
          "name": "stderr",
          "text": [
            "  3%|▎         | 5613/200000 [00:15<07:13, 448.26it/s]"
          ]
        },
        {
          "output_type": "stream",
          "name": "stdout",
          "text": [
            "\n",
            " best loss: \t 2.4808338\r\n",
            " best loss: \t 2.4708014\r\n",
            " best loss: \t 2.4567957\r"
          ]
        },
        {
          "output_type": "stream",
          "name": "stderr",
          "text": [
            "  3%|▎         | 5702/200000 [00:15<07:27, 434.51it/s]"
          ]
        },
        {
          "output_type": "stream",
          "name": "stdout",
          "text": [
            "\n",
            " best loss: \t 2.4459293\r\n",
            " best loss: \t 2.4258602\r\n",
            " best loss: \t 2.4064207\r"
          ]
        },
        {
          "output_type": "stream",
          "name": "stderr",
          "text": [
            "  3%|▎         | 5835/200000 [00:15<07:26, 434.93it/s]"
          ]
        },
        {
          "output_type": "stream",
          "name": "stdout",
          "text": [
            "\n",
            " best loss: \t 2.371698\r\n",
            " best loss: \t 2.3625965\r\n",
            " best loss: \t 2.3551052\r"
          ]
        },
        {
          "output_type": "stream",
          "name": "stderr",
          "text": [
            "  3%|▎         | 5925/200000 [00:15<07:30, 430.34it/s]"
          ]
        },
        {
          "output_type": "stream",
          "name": "stdout",
          "text": [
            "\n",
            " best loss: \t 2.335655\r\n",
            " best loss: \t 2.2779477\r\n",
            " best loss: \t 2.2737167\r"
          ]
        },
        {
          "output_type": "stream",
          "name": "stderr",
          "text": [
            "  3%|▎         | 6060/200000 [00:16<07:22, 438.17it/s]"
          ]
        },
        {
          "output_type": "stream",
          "name": "stdout",
          "text": [
            "\n",
            " best loss: \t 2.271391\r\n",
            " best loss: \t 2.2611604\r\n",
            " best loss: \t 2.2054088\r"
          ]
        },
        {
          "output_type": "stream",
          "name": "stderr",
          "text": [
            "  3%|▎         | 6148/200000 [00:16<07:30, 430.01it/s]"
          ]
        },
        {
          "output_type": "stream",
          "name": "stdout",
          "text": [
            "\n",
            " best loss: \t 2.2049782\r\n",
            " best loss: \t 2.1888573\r\n",
            " best loss: \t 2.1699252\r\n",
            " best loss: \t 2.1619043\r\n",
            " best loss: \t 2.1574543\r"
          ]
        },
        {
          "output_type": "stream",
          "name": "stderr",
          "text": [
            "  3%|▎         | 6235/200000 [00:16<07:46, 415.59it/s]"
          ]
        },
        {
          "output_type": "stream",
          "name": "stdout",
          "text": [
            "\n",
            " best loss: \t 2.1501174\r\n",
            " best loss: \t 2.1064534\r\n",
            " best loss: \t 2.105156\r\n",
            " best loss: \t 2.0762796\r\n",
            " best loss: \t 2.014216\r"
          ]
        },
        {
          "output_type": "stream",
          "name": "stderr",
          "text": [
            "  3%|▎         | 6364/200000 [00:16<07:39, 421.49it/s]"
          ]
        },
        {
          "output_type": "stream",
          "name": "stdout",
          "text": [
            "\n",
            " best loss: \t 1.9965253\r\n",
            " best loss: \t 1.99601\r\n",
            " best loss: \t 1.9400636\r\n",
            " best loss: \t 1.9356414\r"
          ]
        },
        {
          "output_type": "stream",
          "name": "stderr",
          "text": [
            "  3%|▎         | 6493/200000 [00:17<07:50, 411.31it/s]"
          ]
        },
        {
          "output_type": "stream",
          "name": "stdout",
          "text": [
            "\n",
            " best loss: \t 1.9333961\r\n",
            " best loss: \t 1.9324582\r\n",
            " best loss: \t 1.9102709\r\n",
            " best loss: \t 1.9022377\r\n",
            " best loss: \t 1.885481\r\n",
            " best loss: \t 1.8789548\r\n",
            " best loss: \t 1.8654698\r\n",
            " best loss: \t 1.8541932\r"
          ]
        },
        {
          "output_type": "stream",
          "name": "stderr",
          "text": [
            "  3%|▎         | 6577/200000 [00:17<07:53, 408.35it/s]"
          ]
        },
        {
          "output_type": "stream",
          "name": "stdout",
          "text": [
            "\n",
            " best loss: \t 1.8377962\r\n",
            " best loss: \t 1.7942227\r\n",
            " best loss: \t 1.7918848\r\n",
            " best loss: \t 1.7865936\r\n",
            " best loss: \t 1.7714908\r"
          ]
        },
        {
          "output_type": "stream",
          "name": "stderr",
          "text": [
            "  3%|▎         | 6665/200000 [00:17<07:45, 415.21it/s]"
          ]
        },
        {
          "output_type": "stream",
          "name": "stdout",
          "text": [
            "\n",
            " best loss: \t 1.718593\r\n",
            " best loss: \t 1.7143798\r\n",
            " best loss: \t 1.7000391\r\n",
            " best loss: \t 1.6721078\r\n",
            " best loss: \t 1.662958\r"
          ]
        },
        {
          "output_type": "stream",
          "name": "stderr",
          "text": [
            "  3%|▎         | 6750/200000 [00:17<07:49, 411.65it/s]"
          ]
        },
        {
          "output_type": "stream",
          "name": "stdout",
          "text": [
            "\n",
            " best loss: \t 1.6520759\r\n",
            " best loss: \t 1.6284325\r\n",
            " best loss: \t 1.6242882\r\n",
            " best loss: \t 1.606619\r\n",
            " best loss: \t 1.5806208\r\n",
            " best loss: \t 1.5670456\r"
          ]
        },
        {
          "output_type": "stream",
          "name": "stderr",
          "text": [
            "  3%|▎         | 6835/200000 [00:17<07:42, 417.80it/s]"
          ]
        },
        {
          "output_type": "stream",
          "name": "stdout",
          "text": [
            "\n",
            " best loss: \t 1.5521979\r\n",
            " best loss: \t 1.5259888\r\n",
            " best loss: \t 1.5254847\r\n",
            " best loss: \t 1.4999871\r\n",
            " best loss: \t 1.4748209\r"
          ]
        },
        {
          "output_type": "stream",
          "name": "stderr",
          "text": [
            "  3%|▎         | 6919/200000 [00:18<07:44, 415.84it/s]"
          ]
        },
        {
          "output_type": "stream",
          "name": "stdout",
          "text": [
            "\n",
            " best loss: \t 1.4587339\r\n",
            " best loss: \t 1.4576584\r\n",
            " best loss: \t 1.4483439\r\n",
            " best loss: \t 1.422831\r\n",
            " best loss: \t 1.397505\r\n",
            " best loss: \t 1.3874929\r"
          ]
        },
        {
          "output_type": "stream",
          "name": "stderr",
          "text": [
            "  4%|▎         | 7008/200000 [00:18<07:38, 420.62it/s]"
          ]
        },
        {
          "output_type": "stream",
          "name": "stdout",
          "text": [
            "\n",
            " best loss: \t 1.3712238\r\n",
            " best loss: \t 1.3495206\r\n",
            " best loss: \t 1.3433244\r\n",
            " best loss: \t 1.3083748\r"
          ]
        },
        {
          "output_type": "stream",
          "name": "stderr",
          "text": [
            "  4%|▎         | 7188/200000 [00:18<07:21, 436.54it/s]"
          ]
        },
        {
          "output_type": "stream",
          "name": "stdout",
          "text": [
            "\n",
            " best loss: \t 1.2967765\r\n",
            " best loss: \t 1.2827384\r\n",
            " best loss: \t 1.2752813\r\n",
            " best loss: \t 1.2421232\r"
          ]
        },
        {
          "output_type": "stream",
          "name": "stderr",
          "text": [
            "  4%|▎         | 7366/200000 [00:19<07:23, 434.15it/s]"
          ]
        },
        {
          "output_type": "stream",
          "name": "stdout",
          "text": [
            "\n",
            " best loss: \t 1.2282954\r\n",
            " best loss: \t 1.2198057\r\n",
            " best loss: \t 1.2070832\r"
          ]
        },
        {
          "output_type": "stream",
          "name": "stderr",
          "text": [
            "  4%|▎         | 7453/200000 [00:19<07:38, 419.81it/s]"
          ]
        },
        {
          "output_type": "stream",
          "name": "stdout",
          "text": [
            "\n",
            " best loss: \t 1.2008822\r\n",
            " best loss: \t 1.1789081\r\n",
            " best loss: \t 1.1713123\r"
          ]
        },
        {
          "output_type": "stream",
          "name": "stderr",
          "text": [
            "  4%|▍         | 7539/200000 [00:19<07:54, 405.80it/s]"
          ]
        },
        {
          "output_type": "stream",
          "name": "stdout",
          "text": [
            "\n",
            " best loss: \t 1.1600573\r\n",
            " best loss: \t 1.1374148\r\n",
            " best loss: \t 1.1337415\r\n",
            " best loss: \t 1.1031568\r"
          ]
        },
        {
          "output_type": "stream",
          "name": "stderr",
          "text": [
            "  4%|▍         | 7666/200000 [00:19<07:41, 416.47it/s]"
          ]
        },
        {
          "output_type": "stream",
          "name": "stdout",
          "text": [
            "\n",
            " best loss: \t 1.0688177\r\n",
            " best loss: \t 1.0595019\r"
          ]
        },
        {
          "output_type": "stream",
          "name": "stderr",
          "text": [
            "  4%|▍         | 7841/200000 [00:20<07:29, 427.06it/s]"
          ]
        },
        {
          "output_type": "stream",
          "name": "stdout",
          "text": [
            "\n",
            " best loss: \t 1.0590295\r\n",
            " best loss: \t 1.0508678\r\n",
            " best loss: \t 1.021794\r\n",
            " best loss: \t 1.0127906\r"
          ]
        },
        {
          "output_type": "stream",
          "name": "stderr",
          "text": [
            "  4%|▍         | 7930/200000 [00:20<07:26, 429.83it/s]"
          ]
        },
        {
          "output_type": "stream",
          "name": "stdout",
          "text": [
            "\n",
            " best loss: \t 0.97838813\r\n",
            " best loss: \t 0.9568542\r"
          ]
        },
        {
          "output_type": "stream",
          "name": "stderr",
          "text": [
            "  4%|▍         | 8063/200000 [00:20<07:23, 432.38it/s]"
          ]
        },
        {
          "output_type": "stream",
          "name": "stdout",
          "text": [
            "\n",
            " best loss: \t 0.95075744\r\n",
            " best loss: \t 0.95020026\r\n",
            " best loss: \t 0.94678164\r\n",
            " best loss: \t 0.92388314\r\n",
            " best loss: \t 0.9151847\r"
          ]
        },
        {
          "output_type": "stream",
          "name": "stderr",
          "text": [
            "  4%|▍         | 8151/200000 [00:21<07:29, 426.48it/s]"
          ]
        },
        {
          "output_type": "stream",
          "name": "stdout",
          "text": [
            "\n",
            " best loss: \t 0.90865254\r\n",
            " best loss: \t 0.90748096\r\n",
            " best loss: \t 0.9005454\r\n",
            " best loss: \t 0.8467108\r"
          ]
        },
        {
          "output_type": "stream",
          "name": "stderr",
          "text": [
            "  4%|▍         | 8327/200000 [00:21<07:35, 420.57it/s]"
          ]
        },
        {
          "output_type": "stream",
          "name": "stdout",
          "text": [
            "\n",
            " best loss: \t 0.84050876\r\n",
            " best loss: \t 0.83354753\r\n",
            " best loss: \t 0.83139974\r\n",
            " best loss: \t 0.8255576\r\n",
            " best loss: \t 0.821981\r\n",
            " best loss: \t 0.8127936\r\n",
            " best loss: \t 0.8061635\r\n",
            " best loss: \t 0.7951266\r"
          ]
        },
        {
          "output_type": "stream",
          "name": "stderr",
          "text": [
            "  4%|▍         | 8459/200000 [00:21<07:35, 420.86it/s]"
          ]
        },
        {
          "output_type": "stream",
          "name": "stdout",
          "text": [
            "\n",
            " best loss: \t 0.78435194\r\n",
            " best loss: \t 0.7724514\r\n",
            " best loss: \t 0.7522646\r"
          ]
        },
        {
          "output_type": "stream",
          "name": "stderr",
          "text": [
            "  4%|▍         | 8550/200000 [00:21<07:29, 426.25it/s]"
          ]
        },
        {
          "output_type": "stream",
          "name": "stdout",
          "text": [
            "\n",
            " best loss: \t 0.7423194\r\n",
            " best loss: \t 0.7416276\r\n",
            " best loss: \t 0.73354906\r\n",
            " best loss: \t 0.73286206\r"
          ]
        },
        {
          "output_type": "stream",
          "name": "stderr",
          "text": [
            "  4%|▍         | 8640/200000 [00:22<07:17, 437.46it/s]"
          ]
        },
        {
          "output_type": "stream",
          "name": "stdout",
          "text": [
            "\n",
            " best loss: \t 0.70797044\r\n",
            " best loss: \t 0.6876109\r\n",
            " best loss: \t 0.68229234\r"
          ]
        },
        {
          "output_type": "stream",
          "name": "stderr",
          "text": [
            "  4%|▍         | 8728/200000 [00:22<07:33, 422.20it/s]"
          ]
        },
        {
          "output_type": "stream",
          "name": "stdout",
          "text": [
            "\n",
            " best loss: \t 0.6778282\r\n",
            " best loss: \t 0.6753042\r\n",
            " best loss: \t 0.6725581\r\n",
            " best loss: \t 0.6633491\r\n",
            " best loss: \t 0.6605129\r\n",
            " best loss: \t 0.65695107\r"
          ]
        },
        {
          "output_type": "stream",
          "name": "stderr",
          "text": [
            "  4%|▍         | 8857/200000 [00:22<07:33, 421.28it/s]"
          ]
        },
        {
          "output_type": "stream",
          "name": "stdout",
          "text": [
            "\n",
            " best loss: \t 0.64954835\r\n",
            " best loss: \t 0.64500844\r\n",
            " best loss: \t 0.62886006\r\n",
            " best loss: \t 0.6144046\r"
          ]
        },
        {
          "output_type": "stream",
          "name": "stderr",
          "text": [
            "  4%|▍         | 8944/200000 [00:22<07:34, 419.97it/s]"
          ]
        },
        {
          "output_type": "stream",
          "name": "stdout",
          "text": [
            "\n",
            " best loss: \t 0.6022632\r\n",
            " best loss: \t 0.60075986\r"
          ]
        },
        {
          "output_type": "stream",
          "name": "stderr",
          "text": [
            "  5%|▍         | 9077/200000 [00:23<07:25, 428.41it/s]"
          ]
        },
        {
          "output_type": "stream",
          "name": "stdout",
          "text": [
            "\n",
            " best loss: \t 0.59963095\r\n",
            " best loss: \t 0.5937186\r"
          ]
        },
        {
          "output_type": "stream",
          "name": "stderr",
          "text": [
            "  5%|▍         | 9214/200000 [00:23<07:12, 441.12it/s]"
          ]
        },
        {
          "output_type": "stream",
          "name": "stdout",
          "text": [
            "\n",
            " best loss: \t 0.5900331\r"
          ]
        },
        {
          "output_type": "stream",
          "name": "stderr",
          "text": [
            "  5%|▍         | 9304/200000 [00:23<07:15, 437.80it/s]"
          ]
        },
        {
          "output_type": "stream",
          "name": "stdout",
          "text": [
            "\n",
            " best loss: \t 0.58416194\r"
          ]
        },
        {
          "output_type": "stream",
          "name": "stderr",
          "text": [
            "  5%|▍         | 9489/200000 [00:24<07:01, 452.31it/s]"
          ]
        },
        {
          "output_type": "stream",
          "name": "stdout",
          "text": [
            "\n",
            " best loss: \t 0.58294\r"
          ]
        },
        {
          "output_type": "stream",
          "name": "stderr",
          "text": [
            "  7%|▋         | 13089/200000 [00:31<07:03, 441.00it/s]"
          ]
        },
        {
          "output_type": "stream",
          "name": "stdout",
          "text": [
            "\n",
            " best loss: \t 0.5682885\r\n",
            " best loss: \t 0.5615009\r\n",
            " best loss: \t 0.5608963\r\n",
            " best loss: \t 0.55933505\r\n",
            " best loss: \t 0.5568014\r"
          ]
        },
        {
          "output_type": "stream",
          "name": "stderr",
          "text": [
            "  7%|▋         | 13177/200000 [00:32<07:19, 424.88it/s]"
          ]
        },
        {
          "output_type": "stream",
          "name": "stdout",
          "text": [
            "\n",
            " best loss: \t 0.55616975\r\n",
            " best loss: \t 0.5557145\r\n",
            " best loss: \t 0.5446731\r"
          ]
        },
        {
          "output_type": "stream",
          "name": "stderr",
          "text": [
            "  7%|▋         | 13264/200000 [00:32<07:21, 423.26it/s]"
          ]
        },
        {
          "output_type": "stream",
          "name": "stdout",
          "text": [
            "\n",
            " best loss: \t 0.5446703\r\n",
            " best loss: \t 0.5389592\r\n",
            " best loss: \t 0.53435975\r\n",
            " best loss: \t 0.530219\r"
          ]
        },
        {
          "output_type": "stream",
          "name": "stderr",
          "text": [
            "  7%|▋         | 13355/200000 [00:32<07:19, 424.29it/s]"
          ]
        },
        {
          "output_type": "stream",
          "name": "stdout",
          "text": [
            "\n",
            " best loss: \t 0.52889293\r\n",
            " best loss: \t 0.52021986\r\n",
            " best loss: \t 0.5193952\r\n",
            " best loss: \t 0.5188922\r\n",
            " best loss: \t"
          ]
        },
        {
          "output_type": "stream",
          "name": "stderr",
          "text": [
            "  7%|▋         | 13442/200000 [00:32<07:25, 419.12it/s]"
          ]
        },
        {
          "output_type": "stream",
          "name": "stdout",
          "text": [
            " 0.5159096\r\n",
            " best loss: \t 0.5115753\r\n",
            " best loss: \t 0.5046346\r\n",
            " best loss: \t"
          ]
        },
        {
          "output_type": "stream",
          "name": "stderr",
          "text": [
            "  7%|▋         | 13528/200000 [00:33<07:21, 422.69it/s]"
          ]
        },
        {
          "output_type": "stream",
          "name": "stdout",
          "text": [
            " 0.50208527\r\n",
            " best loss: \t 0.49645275\r\n",
            " best loss: \t 0.49605864\r\n",
            " best loss: \t 0.49454972\r\n",
            " best loss: \t 0.49212423\r"
          ]
        },
        {
          "output_type": "stream",
          "name": "stderr",
          "text": [
            "  7%|▋         | 13653/200000 [00:33<07:46, 399.39it/s]"
          ]
        },
        {
          "output_type": "stream",
          "name": "stdout",
          "text": [
            "\n",
            " best loss: \t 0.48808905\r\n",
            " best loss: \t 0.47766715\r\n",
            " best loss: \t 0.4698508\r\n",
            " best loss: \t 0.46322277\r"
          ]
        },
        {
          "output_type": "stream",
          "name": "stderr",
          "text": [
            "  7%|▋         | 13739/200000 [00:33<07:32, 411.55it/s]"
          ]
        },
        {
          "output_type": "stream",
          "name": "stdout",
          "text": [
            "\n",
            " best loss: \t 0.46112695\r\n",
            " best loss: \t 0.45225653\r\n",
            " best loss: \t 0.4442074\r"
          ]
        },
        {
          "output_type": "stream",
          "name": "stderr",
          "text": [
            "  7%|▋         | 13871/200000 [00:33<07:13, 428.88it/s]"
          ]
        },
        {
          "output_type": "stream",
          "name": "stdout",
          "text": [
            "\n",
            " best loss: \t 0.4369789\r\n",
            " best loss: \t 0.43139035\r\n",
            " best loss: \t 0.42989418\r"
          ]
        },
        {
          "output_type": "stream",
          "name": "stderr",
          "text": [
            "  7%|▋         | 13957/200000 [00:34<07:20, 422.75it/s]"
          ]
        },
        {
          "output_type": "stream",
          "name": "stdout",
          "text": [
            "\n",
            " best loss: \t 0.42679015\r\n",
            " best loss: \t 0.4260938\r\n",
            " best loss: \t 0.42530504\r\n",
            " best loss: \t 0.42526597\r\n",
            " best loss: \t 0.4156106\r"
          ]
        },
        {
          "output_type": "stream",
          "name": "stderr",
          "text": [
            "  7%|▋         | 14090/200000 [00:34<07:28, 414.37it/s]"
          ]
        },
        {
          "output_type": "stream",
          "name": "stdout",
          "text": [
            "\n",
            " best loss: \t 0.40250653\r\n",
            " best loss: \t 0.39403573\r\n",
            " best loss: \t 0.39119533\r"
          ]
        },
        {
          "output_type": "stream",
          "name": "stderr",
          "text": [
            "  7%|▋         | 14176/200000 [00:34<07:26, 416.41it/s]"
          ]
        },
        {
          "output_type": "stream",
          "name": "stdout",
          "text": [
            "\n",
            " best loss: \t 0.38222727\r\n",
            " best loss: \t 0.38196057\r\n",
            " best loss: \t 0.38030973\r\n",
            " best loss: \t 0.3681622\r"
          ]
        },
        {
          "output_type": "stream",
          "name": "stderr",
          "text": [
            "  7%|▋         | 14307/200000 [00:34<07:14, 427.78it/s]"
          ]
        },
        {
          "output_type": "stream",
          "name": "stdout",
          "text": [
            "\n",
            " best loss: \t 0.35931906\r\n",
            " best loss: \t 0.3409149\r"
          ]
        },
        {
          "output_type": "stream",
          "name": "stderr",
          "text": [
            "  7%|▋         | 14493/200000 [00:35<06:55, 446.24it/s]"
          ]
        },
        {
          "output_type": "stream",
          "name": "stdout",
          "text": [
            "\n",
            " best loss: \t 0.3337915\r\n",
            " best loss: \t 0.33170325\r"
          ]
        },
        {
          "output_type": "stream",
          "name": "stderr",
          "text": [
            "\r  7%|▋         | 14538/200000 [00:35<07:24, 416.82it/s]"
          ]
        },
        {
          "output_type": "stream",
          "name": "stdout",
          "text": [
            "\n",
            " best loss: \t 0.32976335\r\n",
            " best loss: \t 0.3272584\r\n",
            " best loss: \t 0.32623482\r\n",
            " best loss: \t 0.32567188\r\n",
            " best loss: \t 0.31994775\r\n",
            " best loss: \t 0.31957582\r\n",
            " best loss: \t 0.31144246\r"
          ]
        },
        {
          "output_type": "stream",
          "name": "stderr",
          "text": [
            "  7%|▋         | 14670/200000 [00:35<07:17, 424.00it/s]"
          ]
        },
        {
          "output_type": "stream",
          "name": "stdout",
          "text": [
            "\n",
            " best loss: \t 0.30756465\r\n",
            " best loss: \t 0.30344918\r\n",
            " best loss: \t 0.30300382\r\n",
            " best loss: \t 0.2994659\r"
          ]
        },
        {
          "output_type": "stream",
          "name": "stderr",
          "text": [
            "  7%|▋         | 14756/200000 [00:35<07:22, 418.99it/s]"
          ]
        },
        {
          "output_type": "stream",
          "name": "stdout",
          "text": [
            "\n",
            " best loss: \t 0.29646522\r\n",
            " best loss: \t 0.28936607\r\n",
            " best loss: \t 0.28793687\r\n",
            " best loss: \t 0.28521332\r"
          ]
        },
        {
          "output_type": "stream",
          "name": "stderr",
          "text": [
            "  7%|▋         | 14889/200000 [00:36<07:15, 425.26it/s]"
          ]
        },
        {
          "output_type": "stream",
          "name": "stdout",
          "text": [
            "\n",
            " best loss: \t 0.28394762\r\n",
            " best loss: \t 0.28271347\r\n",
            " best loss: \t 0.2785931\r\n",
            " best loss: \t 0.2737505\r\n",
            " best loss: \t 0.27352893\r\n",
            " best loss: \t 0.27334195\r\n",
            " best loss: \t 0.26281697\r"
          ]
        },
        {
          "output_type": "stream",
          "name": "stderr",
          "text": [
            "  8%|▊         | 15018/200000 [00:36<07:24, 416.62it/s]"
          ]
        },
        {
          "output_type": "stream",
          "name": "stdout",
          "text": [
            "\n",
            " best loss: \t 0.25758743\r\n",
            " best loss: \t 0.2566383\r\n",
            " best loss: \t 0.2462435\r"
          ]
        },
        {
          "output_type": "stream",
          "name": "stderr",
          "text": [
            "  8%|▊         | 15149/200000 [00:36<07:14, 424.95it/s]"
          ]
        },
        {
          "output_type": "stream",
          "name": "stdout",
          "text": [
            "\n",
            " best loss: \t 0.23503698\r\n",
            " best loss: \t 0.23398188\r"
          ]
        },
        {
          "output_type": "stream",
          "name": "stderr",
          "text": [
            "  8%|▊         | 15284/200000 [00:37<07:09, 429.82it/s]"
          ]
        },
        {
          "output_type": "stream",
          "name": "stdout",
          "text": [
            "\n",
            " best loss: \t 0.232921\r\n",
            " best loss: \t 0.22700901\r\n",
            " best loss: \t 0.22694229\r\n",
            " best loss: \t 0.22339784\r\n",
            " best loss: \t 0.22077172\r"
          ]
        },
        {
          "output_type": "stream",
          "name": "stderr",
          "text": [
            "  8%|▊         | 15375/200000 [00:37<06:58, 440.67it/s]"
          ]
        },
        {
          "output_type": "stream",
          "name": "stdout",
          "text": [
            "\n",
            " best loss: \t 0.214009\r"
          ]
        },
        {
          "output_type": "stream",
          "name": "stderr",
          "text": [
            "  8%|▊         | 15507/200000 [00:37<07:22, 417.35it/s]"
          ]
        },
        {
          "output_type": "stream",
          "name": "stdout",
          "text": [
            "\n",
            " best loss: \t 0.21240379\r\n",
            " best loss: \t 0.2105119\r\n",
            " best loss: \t 0.20366676\r"
          ]
        },
        {
          "output_type": "stream",
          "name": "stderr",
          "text": [
            "  8%|▊         | 15595/200000 [00:37<07:13, 425.02it/s]"
          ]
        },
        {
          "output_type": "stream",
          "name": "stdout",
          "text": [
            "\n",
            " best loss: \t 0.20299868\r\n",
            " best loss: \t 0.19912803\r"
          ]
        },
        {
          "output_type": "stream",
          "name": "stderr",
          "text": [
            "  8%|▊         | 15725/200000 [00:38<07:12, 426.03it/s]"
          ]
        },
        {
          "output_type": "stream",
          "name": "stdout",
          "text": [
            "\n",
            " best loss: \t 0.19826248\r\n",
            " best loss: \t 0.19512428\r\n",
            " best loss: \t 0.19343884\r"
          ]
        },
        {
          "output_type": "stream",
          "name": "stderr",
          "text": [
            "  8%|▊         | 15812/200000 [00:38<07:14, 424.37it/s]"
          ]
        },
        {
          "output_type": "stream",
          "name": "stdout",
          "text": [
            "\n",
            " best loss: \t 0.19310777\r\n",
            " best loss: \t 0.19136637\r\n",
            " best loss: \t 0.18702759\r\n",
            " best loss: \t 0.18389338\r"
          ]
        },
        {
          "output_type": "stream",
          "name": "stderr",
          "text": [
            "  8%|▊         | 16000/200000 [00:38<06:50, 448.03it/s]"
          ]
        },
        {
          "output_type": "stream",
          "name": "stdout",
          "text": [
            "\n",
            " best loss: \t 0.18028232\r\n",
            " best loss: \t 0.17996687\r\n",
            " best loss: \t 0.17724338\r\n",
            " best loss: \t 0.17576465\r"
          ]
        },
        {
          "output_type": "stream",
          "name": "stderr",
          "text": [
            "  8%|▊         | 16139/200000 [00:39<07:02, 435.69it/s]"
          ]
        },
        {
          "output_type": "stream",
          "name": "stdout",
          "text": [
            "\n",
            " best loss: \t 0.17494549\r\n",
            " best loss: \t 0.17308564\r\n",
            " best loss: \t 0.1651567\r"
          ]
        },
        {
          "output_type": "stream",
          "name": "stderr",
          "text": [
            "  8%|▊         | 16374/200000 [00:39<06:47, 451.09it/s]"
          ]
        },
        {
          "output_type": "stream",
          "name": "stdout",
          "text": [
            "\n",
            " best loss: \t 0.16371852\r\n",
            " best loss: \t 0.16293997\r\n",
            " best loss: \t 0.16281302\r\n",
            " best loss: \t 0.158897\r\n",
            " best loss: \t 0.15843634\r\n",
            " best loss: \t 0.15159547\r"
          ]
        },
        {
          "output_type": "stream",
          "name": "stderr",
          "text": [
            "  8%|▊         | 16513/200000 [00:40<06:51, 445.54it/s]"
          ]
        },
        {
          "output_type": "stream",
          "name": "stdout",
          "text": [
            "\n",
            " best loss: \t 0.14983521\r\n",
            " best loss: \t 0.14602926\r\n",
            " best loss: \t 0.14255181\r"
          ]
        },
        {
          "output_type": "stream",
          "name": "stderr",
          "text": [
            "  8%|▊         | 16602/200000 [00:40<07:02, 434.28it/s]"
          ]
        },
        {
          "output_type": "stream",
          "name": "stdout",
          "text": [
            "\n",
            " best loss: \t 0.14144786\r\n",
            " best loss: \t 0.13887356\r\n",
            " best loss: \t 0.13096501\r\n",
            " best loss: \t 0.13001594\r"
          ]
        },
        {
          "output_type": "stream",
          "name": "stderr",
          "text": [
            "  8%|▊         | 16690/200000 [00:40<07:17, 418.56it/s]"
          ]
        },
        {
          "output_type": "stream",
          "name": "stdout",
          "text": [
            "\n",
            " best loss: \t 0.12855095\r\n",
            " best loss: \t 0.12425337\r\n",
            " best loss: \t 0.118899845\r\n",
            " best loss: \t 0.117026456\r"
          ]
        },
        {
          "output_type": "stream",
          "name": "stderr",
          "text": [
            "  8%|▊         | 16777/200000 [00:40<07:14, 421.61it/s]"
          ]
        },
        {
          "output_type": "stream",
          "name": "stdout",
          "text": [
            "\n",
            " best loss: \t 0.11452728\r\n",
            " best loss: \t 0.113928586\r\n",
            " best loss: \t 0.11238926\r"
          ]
        },
        {
          "output_type": "stream",
          "name": "stderr",
          "text": [
            "  8%|▊         | 16862/200000 [00:40<07:36, 401.36it/s]"
          ]
        },
        {
          "output_type": "stream",
          "name": "stdout",
          "text": [
            "\n",
            " best loss: \t 0.1116701\r\n",
            " best loss: \t 0.111272894\r\n",
            " best loss: \t 0.10894317\r\n",
            " best loss: \t 0.1073188\r\n",
            " best loss: \t 0.106544174\r\n",
            " best loss: \t 0.09679788\r\n",
            " best loss: \t 0.09457001\r\n",
            " best loss: \t 0.09331813\r\n",
            " best loss: \t 0.090748735\r\n",
            " best loss: \t 0.082846984\r\n",
            " best loss: \t 0.07788625\r\n",
            " best loss: \t 0.077253416\r\n",
            " best loss: \t 0.073828\r\n",
            " best loss: \t 0.064292945\r\n",
            " best loss: \t 0.058713384\r\n",
            " best loss: \t 0.050745934\r\n",
            " best loss: \t 0.049529467\r\n",
            " best loss: \t 0.04589296\r\n",
            " best loss: \t 0.043095462\r\n",
            " best loss: \t 0.041353177\r\n",
            " best loss: \t 0.040101726\r"
          ]
        },
        {
          "output_type": "stream",
          "name": "stderr",
          "text": [
            "  8%|▊         | 16944/200000 [00:41<08:28, 359.70it/s]"
          ]
        },
        {
          "output_type": "stream",
          "name": "stdout",
          "text": [
            "\n",
            " best loss: \t 0.04002499\r\n",
            " best loss: \t 0.03852039\r\n",
            " best loss: \t 0.035328485\r\n",
            " best loss: \t 0.033845462\r\n",
            " best loss: \t 0.033509843\r\n",
            " best loss: \t 0.03289812\r"
          ]
        },
        {
          "output_type": "stream",
          "name": "stderr",
          "text": [
            "  9%|▊         | 17214/200000 [00:41<07:17, 418.18it/s]"
          ]
        },
        {
          "output_type": "stream",
          "name": "stdout",
          "text": [
            "\n",
            " best loss: \t 0.032508116\r\n",
            " best loss: \t 0.032350145\r\n",
            " best loss: \t 0.03188811\r\n",
            " best loss: \t 0.03052809\r\n",
            " best loss: \t 0.030460425\r\n",
            " best loss: \t 0.030008884\r\n",
            " best loss: \t 0.029948615\r\n",
            " best loss: \t 0.029870395\r\n",
            " best loss: \t"
          ]
        },
        {
          "output_type": "stream",
          "name": "stderr",
          "text": [
            "  9%|▊         | 17297/200000 [00:41<07:47, 391.14it/s]"
          ]
        },
        {
          "output_type": "stream",
          "name": "stdout",
          "text": [
            " 0.02971141\r\n",
            " best loss: \t 0.029205317\r\n",
            " best loss: \t 0.02896259\r\n",
            " best loss: \t 0.028818022\r\n",
            " best loss: \t 0.028729336\r\n",
            " best loss: \t 0.028508848\r\n",
            " best loss: \t 0.028235031\r\n",
            " best loss: \t 0.027734248\r\n",
            " best loss: \t 0.027687233\r"
          ]
        },
        {
          "output_type": "stream",
          "name": "stderr",
          "text": [
            "\r  9%|▊         | 17337/200000 [00:42<07:52, 386.67it/s]"
          ]
        },
        {
          "output_type": "stream",
          "name": "stdout",
          "text": [
            "\n",
            " best loss: \t 0.027553169\r\n",
            " best loss: \t 0.027442921\r\n",
            " best loss: \t 0.026879488\r\n",
            " best loss: \t 0.02645818\r\n",
            " best loss: \t 0.026457215\r\n",
            " best loss: \t 0.02642925\r\n",
            " best loss: \t 0.02635052\r"
          ]
        },
        {
          "output_type": "stream",
          "name": "stderr",
          "text": [
            "  9%|▊         | 17455/200000 [00:42<08:11, 371.71it/s]"
          ]
        },
        {
          "output_type": "stream",
          "name": "stdout",
          "text": [
            "\n",
            " best loss: \t 0.026271382\r\n",
            " best loss: \t 0.026054537\r\n",
            " best loss: \t 0.025923878\r\n",
            " best loss: \t 0.025691682\r\n",
            " best loss: \t 0.025550637\r\n",
            " best loss: \t 0.02549138\r\n",
            " best loss: \t 0.025463518\r\n",
            " best loss: \t 0.02544717\r\n",
            " best loss: \t 0.025297169\r\n",
            " best loss: \t 0.02526099\r\n",
            " best loss: \t 0.025008706\r"
          ]
        },
        {
          "output_type": "stream",
          "name": "stderr",
          "text": [
            "  9%|▉         | 17534/200000 [00:42<08:03, 377.30it/s]"
          ]
        },
        {
          "output_type": "stream",
          "name": "stdout",
          "text": [
            "\n",
            " best loss: \t 0.024878126\r\n",
            " best loss: \t 0.024518058\r\n",
            " best loss: \t 0.02437746\r\n",
            " best loss: \t 0.024296295\r\n",
            " best loss: \t 0.024245031\r\n",
            " best loss: \t 0.024196466\r\n",
            " best loss: \t 0.024162836\r\n",
            " best loss: \t 0.024099568\r\n",
            " best loss: \t 0.023541009\r"
          ]
        },
        {
          "output_type": "stream",
          "name": "stderr",
          "text": [
            "  9%|▉         | 17610/200000 [00:42<08:03, 376.93it/s]"
          ]
        },
        {
          "output_type": "stream",
          "name": "stdout",
          "text": [
            "\n",
            " best loss: \t 0.023414483\r\n",
            " best loss: \t 0.02336787\r\n",
            " best loss: \t 0.023075076\r\n",
            " best loss: \t 0.023048202\r\n",
            " best loss: \t 0.022724003\r\n",
            " best loss: \t 0.022672571\r\n",
            " best loss: \t 0.02262661\r\n",
            " best loss: \t"
          ]
        },
        {
          "output_type": "stream",
          "name": "stderr",
          "text": [
            "  9%|▉         | 17688/200000 [00:43<08:00, 379.69it/s]"
          ]
        },
        {
          "output_type": "stream",
          "name": "stdout",
          "text": [
            " 0.022533435\r\n",
            " best loss: \t 0.022498826\r\n",
            " best loss: \t 0.021832563\r\n",
            " best loss: \t 0.021778004\r\n",
            " best loss: \t 0.0217369\r\n",
            " best loss: \t 0.021722754\r\n",
            " best loss: \t 0.021426508\r"
          ]
        },
        {
          "output_type": "stream",
          "name": "stderr",
          "text": [
            "  9%|▉         | 17771/200000 [00:43<07:38, 397.51it/s]"
          ]
        },
        {
          "output_type": "stream",
          "name": "stdout",
          "text": [
            "\n",
            " best loss: \t 0.020760426\r\n",
            " best loss: \t 0.020729514\r\n",
            " best loss: \t 0.0206945\r\n",
            " best loss: \t 0.020327939\r\n",
            " best loss: \t 0.019732732\r\n",
            " best loss: \t 0.019647459\r\n",
            " best loss: \t 0.019367391\r"
          ]
        },
        {
          "output_type": "stream",
          "name": "stderr",
          "text": [
            "  9%|▉         | 17904/200000 [00:43<07:07, 426.01it/s]"
          ]
        },
        {
          "output_type": "stream",
          "name": "stdout",
          "text": [
            "\n",
            " best loss: \t 0.01921928\r\n",
            " best loss: \t 0.018719409\r\n",
            " best loss: \t 0.01839585\r\n",
            " best loss: \t 0.017945496\r"
          ]
        },
        {
          "output_type": "stream",
          "name": "stderr",
          "text": [
            "  9%|▉         | 17992/200000 [00:43<07:06, 426.67it/s]"
          ]
        },
        {
          "output_type": "stream",
          "name": "stdout",
          "text": [
            "\n",
            " best loss: \t 0.017836548\r\n",
            " best loss: \t 0.016743157\r"
          ]
        },
        {
          "output_type": "stream",
          "name": "stderr",
          "text": [
            "  9%|▉         | 18131/200000 [00:44<06:41, 452.79it/s]"
          ]
        },
        {
          "output_type": "stream",
          "name": "stdout",
          "text": [
            "\n",
            " best loss: \t 0.016721591\r"
          ]
        },
        {
          "output_type": "stream",
          "name": "stderr",
          "text": [
            "  9%|▉         | 18269/200000 [00:44<06:50, 443.22it/s]"
          ]
        },
        {
          "output_type": "stream",
          "name": "stdout",
          "text": [
            "\n",
            " best loss: \t 0.016507344\r\n",
            " best loss: \t 0.015841171\r"
          ]
        },
        {
          "output_type": "stream",
          "name": "stderr",
          "text": [
            " 10%|█         | 20209/200000 [00:48<06:49, 438.64it/s]"
          ]
        },
        {
          "output_type": "stream",
          "name": "stdout",
          "text": [
            "\n",
            " best loss: \t 0.015807278\r\n",
            " best loss: \t 0.015109895\r"
          ]
        },
        {
          "output_type": "stream",
          "name": "stderr",
          "text": [
            " 10%|█         | 20390/200000 [00:49<06:47, 440.38it/s]"
          ]
        },
        {
          "output_type": "stream",
          "name": "stdout",
          "text": [
            "\n",
            " best loss: \t 0.014581588\r"
          ]
        },
        {
          "output_type": "stream",
          "name": "stderr",
          "text": [
            " 10%|█         | 20526/200000 [00:49<06:44, 443.78it/s]"
          ]
        },
        {
          "output_type": "stream",
          "name": "stdout",
          "text": [
            "\n",
            " best loss: \t 0.012786333\r"
          ]
        },
        {
          "output_type": "stream",
          "name": "stderr",
          "text": [
            " 11%|█         | 21198/200000 [00:50<06:18, 472.10it/s]"
          ]
        },
        {
          "output_type": "stream",
          "name": "stdout",
          "text": [
            "\n",
            " best loss: \t 0.012119401\r"
          ]
        },
        {
          "output_type": "stream",
          "name": "stderr",
          "text": [
            " 11%|█         | 21635/200000 [00:51<06:19, 470.44it/s]"
          ]
        },
        {
          "output_type": "stream",
          "name": "stdout",
          "text": [
            "\n",
            " best loss: \t 0.010802759\r"
          ]
        },
        {
          "output_type": "stream",
          "name": "stderr",
          "text": [
            " 11%|█         | 22051/200000 [00:52<06:34, 451.43it/s]"
          ]
        },
        {
          "output_type": "stream",
          "name": "stdout",
          "text": [
            "\n",
            " best loss: \t 0.009648538\r"
          ]
        },
        {
          "output_type": "stream",
          "name": "stderr",
          "text": [
            " 11%|█▏        | 22708/200000 [00:54<06:28, 456.24it/s]"
          ]
        },
        {
          "output_type": "stream",
          "name": "stdout",
          "text": [
            "\n",
            " best loss: \t 0.008927885\r"
          ]
        },
        {
          "output_type": "stream",
          "name": "stderr",
          "text": [
            " 12%|█▏        | 23036/200000 [00:54<06:32, 451.03it/s]"
          ]
        },
        {
          "output_type": "stream",
          "name": "stdout",
          "text": [
            "\n",
            " best loss: \t 0.008384752\r"
          ]
        },
        {
          "output_type": "stream",
          "name": "stderr",
          "text": [
            " 12%|█▏        | 23225/200000 [00:55<06:21, 463.81it/s]"
          ]
        },
        {
          "output_type": "stream",
          "name": "stdout",
          "text": [
            "\n",
            " best loss: \t 0.00759683\r"
          ]
        },
        {
          "output_type": "stream",
          "name": "stderr",
          "text": [
            " 12%|█▏        | 24130/200000 [00:57<06:22, 459.68it/s]"
          ]
        },
        {
          "output_type": "stream",
          "name": "stdout",
          "text": [
            "\n",
            " best loss: \t 0.0070301234\r"
          ]
        },
        {
          "output_type": "stream",
          "name": "stderr",
          "text": [
            " 12%|█▏        | 24599/200000 [00:58<06:34, 444.44it/s]"
          ]
        },
        {
          "output_type": "stream",
          "name": "stdout",
          "text": [
            "\n",
            " best loss: \t 0.0055636424\r"
          ]
        },
        {
          "output_type": "stream",
          "name": "stderr",
          "text": [
            " 13%|█▎        | 25731/200000 [01:00<06:24, 453.76it/s]"
          ]
        },
        {
          "output_type": "stream",
          "name": "stdout",
          "text": [
            "\n",
            " best loss: \t 0.0050962158\r"
          ]
        },
        {
          "output_type": "stream",
          "name": "stderr",
          "text": [
            " 13%|█▎        | 26005/200000 [01:01<06:30, 445.67it/s]"
          ]
        },
        {
          "output_type": "stream",
          "name": "stdout",
          "text": [
            "\n",
            " best loss: \t 0.004998798\r\n",
            " best loss: \t 0.0039579463\r"
          ]
        },
        {
          "output_type": "stream",
          "name": "stderr",
          "text": [
            " 16%|█▌        | 31506/200000 [01:13<06:15, 448.84it/s]"
          ]
        },
        {
          "output_type": "stream",
          "name": "stdout",
          "text": [
            "\n",
            " best loss: \t 0.0037843182\r"
          ]
        },
        {
          "output_type": "stream",
          "name": "stderr",
          "text": [
            " 16%|█▌        | 31596/200000 [01:13<06:24, 438.04it/s]"
          ]
        },
        {
          "output_type": "stream",
          "name": "stdout",
          "text": [
            "\n",
            " best loss: \t 0.003673385\r"
          ]
        },
        {
          "output_type": "stream",
          "name": "stderr",
          "text": [
            " 16%|█▋        | 32679/200000 [01:15<06:10, 451.79it/s]"
          ]
        },
        {
          "output_type": "stream",
          "name": "stdout",
          "text": [
            "\n",
            " best loss: \t 0.0035800287\r\n",
            " best loss: \t 0.0028078465\r"
          ]
        },
        {
          "output_type": "stream",
          "name": "stderr",
          "text": [
            " 17%|█▋        | 33723/200000 [01:18<06:04, 456.36it/s]"
          ]
        },
        {
          "output_type": "stream",
          "name": "stdout",
          "text": [
            "\n",
            " best loss: \t 0.0026017444\r\n",
            " best loss: \t 0.0024131893\r"
          ]
        },
        {
          "output_type": "stream",
          "name": "stderr",
          "text": [
            " 17%|█▋        | 34140/200000 [01:19<06:11, 446.92it/s]"
          ]
        },
        {
          "output_type": "stream",
          "name": "stdout",
          "text": [
            "\n",
            " best loss: \t 0.0022719752\r\n",
            " best loss: \t 0.0022381707\r"
          ]
        },
        {
          "output_type": "stream",
          "name": "stderr",
          "text": [
            " 17%|█▋        | 34462/200000 [01:19<06:03, 455.02it/s]"
          ]
        },
        {
          "output_type": "stream",
          "name": "stdout",
          "text": [
            "\n",
            " best loss: \t 0.002179152\r"
          ]
        },
        {
          "output_type": "stream",
          "name": "stderr",
          "text": [
            " 18%|█▊        | 35258/200000 [01:21<06:11, 443.12it/s]"
          ]
        },
        {
          "output_type": "stream",
          "name": "stdout",
          "text": [
            "\n",
            " best loss: \t 0.002023812\r"
          ]
        },
        {
          "output_type": "stream",
          "name": "stderr",
          "text": [
            " 18%|█▊        | 35909/200000 [01:23<06:04, 450.56it/s]"
          ]
        },
        {
          "output_type": "stream",
          "name": "stdout",
          "text": [
            "\n",
            " best loss: \t 0.0020203958\r"
          ]
        },
        {
          "output_type": "stream",
          "name": "stderr",
          "text": [
            " 18%|█▊        | 36047/200000 [01:23<06:04, 450.29it/s]"
          ]
        },
        {
          "output_type": "stream",
          "name": "stdout",
          "text": [
            "\n",
            " best loss: \t 0.0019471183\r"
          ]
        },
        {
          "output_type": "stream",
          "name": "stderr",
          "text": [
            " 18%|█▊        | 36140/200000 [01:23<06:10, 442.29it/s]"
          ]
        },
        {
          "output_type": "stream",
          "name": "stdout",
          "text": [
            "\n",
            " best loss: \t 0.0016129492\r"
          ]
        },
        {
          "output_type": "stream",
          "name": "stderr",
          "text": [
            " 18%|█▊        | 36553/200000 [01:24<06:07, 444.52it/s]"
          ]
        },
        {
          "output_type": "stream",
          "name": "stdout",
          "text": [
            "\n",
            " best loss: \t 0.0014845985\r"
          ]
        },
        {
          "output_type": "stream",
          "name": "stderr",
          "text": [
            " 19%|█▊        | 37061/200000 [01:25<06:05, 446.32it/s]"
          ]
        },
        {
          "output_type": "stream",
          "name": "stdout",
          "text": [
            "\n",
            " best loss: \t 0.0014827509\r"
          ]
        },
        {
          "output_type": "stream",
          "name": "stderr",
          "text": [
            " 19%|█▊        | 37249/200000 [01:26<05:57, 455.75it/s]"
          ]
        },
        {
          "output_type": "stream",
          "name": "stdout",
          "text": [
            "\n",
            " best loss: \t 0.0014278995\r\n",
            " best loss: \t 0.001135633\r"
          ]
        },
        {
          "output_type": "stream",
          "name": "stderr",
          "text": [
            " 19%|█▊        | 37484/200000 [01:26<05:57, 455.18it/s]"
          ]
        },
        {
          "output_type": "stream",
          "name": "stdout",
          "text": [
            "\n",
            " best loss: \t 0.0010938823\r"
          ]
        },
        {
          "output_type": "stream",
          "name": "stderr",
          "text": [
            " 19%|█▉        | 37765/200000 [01:27<05:58, 452.33it/s]"
          ]
        },
        {
          "output_type": "stream",
          "name": "stdout",
          "text": [
            "\n",
            " best loss: \t 0.0010477962\r"
          ]
        },
        {
          "output_type": "stream",
          "name": "stderr",
          "text": [
            " 19%|█▉        | 37855/200000 [01:27<06:13, 434.21it/s]"
          ]
        },
        {
          "output_type": "stream",
          "name": "stdout",
          "text": [
            "\n",
            " best loss: \t 0.00088441395\r"
          ]
        },
        {
          "output_type": "stream",
          "name": "stderr",
          "text": [
            " 19%|█▉        | 38128/200000 [01:28<06:06, 441.90it/s]"
          ]
        },
        {
          "output_type": "stream",
          "name": "stdout",
          "text": [
            "\n",
            " best loss: \t 0.0008579992\r\n",
            " best loss: \t 0.00083781494\r\n",
            " best loss: \t "
          ]
        },
        {
          "output_type": "stream",
          "name": "stderr",
          "text": [
            " 19%|█▉        | 38218/200000 [01:28<06:11, 435.30it/s]"
          ]
        },
        {
          "output_type": "stream",
          "name": "stdout",
          "text": [
            "0.0008018788\r"
          ]
        },
        {
          "output_type": "stream",
          "name": "stderr",
          "text": [
            " 19%|█▉        | 38487/200000 [01:28<06:06, 440.65it/s]"
          ]
        },
        {
          "output_type": "stream",
          "name": "stdout",
          "text": [
            "\n",
            " best loss: \t 0.0007974625\r\n",
            " best loss: \t 0.0007713802\r\n",
            " best loss: \t 0.0007501484\r"
          ]
        },
        {
          "output_type": "stream",
          "name": "stderr",
          "text": [
            " 19%|█▉        | 38666/200000 [01:29<06:08, 438.29it/s]"
          ]
        },
        {
          "output_type": "stream",
          "name": "stdout",
          "text": [
            "\n",
            " best loss: \t 0.00074874616\r\n",
            " best loss: \t 0.00069932645\r\n",
            " best loss: \t 0.00067320484\r"
          ]
        },
        {
          "output_type": "stream",
          "name": "stderr",
          "text": [
            " 19%|█▉        | 38802/200000 [01:29<06:08, 437.78it/s]"
          ]
        },
        {
          "output_type": "stream",
          "name": "stdout",
          "text": [
            "\n",
            " best loss: \t 0.0006648823\r\n",
            " best loss: \t 0.00065219647\r"
          ]
        },
        {
          "output_type": "stream",
          "name": "stderr",
          "text": [
            " 19%|█▉        | 38984/200000 [01:30<05:59, 447.30it/s]"
          ]
        },
        {
          "output_type": "stream",
          "name": "stdout",
          "text": [
            "\n",
            " best loss: \t 0.0006234325\r"
          ]
        },
        {
          "output_type": "stream",
          "name": "stderr",
          "text": [
            " 20%|█▉        | 39121/200000 [01:30<05:59, 448.11it/s]"
          ]
        },
        {
          "output_type": "stream",
          "name": "stdout",
          "text": [
            "\n",
            " best loss: \t 0.0006220529\r\n",
            " best loss: \t 0.0005715838\r"
          ]
        },
        {
          "output_type": "stream",
          "name": "stderr",
          "text": [
            " 20%|█▉        | 39255/200000 [01:30<06:14, 428.78it/s]"
          ]
        },
        {
          "output_type": "stream",
          "name": "stdout",
          "text": [
            "\n",
            " best loss: \t 0.0004690201\r"
          ]
        },
        {
          "output_type": "stream",
          "name": "stderr",
          "text": [
            " 20%|█▉        | 39438/200000 [01:31<05:58, 448.40it/s]"
          ]
        },
        {
          "output_type": "stream",
          "name": "stdout",
          "text": [
            "\n",
            " best loss: \t 0.00041975573\r"
          ]
        },
        {
          "output_type": "stream",
          "name": "stderr",
          "text": [
            " 20%|█▉        | 39577/200000 [01:31<05:52, 454.90it/s]"
          ]
        },
        {
          "output_type": "stream",
          "name": "stdout",
          "text": [
            "\n",
            " best loss: \t 0.00037220036\r"
          ]
        },
        {
          "output_type": "stream",
          "name": "stderr",
          "text": [
            " 20%|█▉        | 39716/200000 [01:31<05:56, 449.18it/s]"
          ]
        },
        {
          "output_type": "stream",
          "name": "stdout",
          "text": [
            "\n",
            " best loss: \t 0.0003694398\r"
          ]
        },
        {
          "output_type": "stream",
          "name": "stderr",
          "text": [
            " 20%|█▉        | 39900/200000 [01:32<06:01, 442.27it/s]"
          ]
        },
        {
          "output_type": "stream",
          "name": "stdout",
          "text": [
            "\n",
            " best loss: \t 0.00036072018\r\n",
            " best loss: \t 0.00035650446\r\n",
            " best loss: \t 0.0003538026\r\n",
            " best loss: \t 0.0003235776\r"
          ]
        },
        {
          "output_type": "stream",
          "name": "stderr",
          "text": [
            " 20%|██        | 40170/200000 [01:32<06:05, 437.06it/s]"
          ]
        },
        {
          "output_type": "stream",
          "name": "stdout",
          "text": [
            "\n",
            " best loss: \t 0.0002987326\r\n",
            " best loss: \t 0.0002842662\r"
          ]
        },
        {
          "output_type": "stream",
          "name": "stderr",
          "text": [
            " 20%|██        | 40259/200000 [01:32<06:04, 438.47it/s]"
          ]
        },
        {
          "output_type": "stream",
          "name": "stdout",
          "text": [
            "\n",
            " best loss: \t 0.00027571284\r\n",
            " best loss: \t 0.00024117969\r"
          ]
        },
        {
          "output_type": "stream",
          "name": "stderr",
          "text": [
            " 20%|██        | 40491/200000 [01:33<05:54, 450.20it/s]"
          ]
        },
        {
          "output_type": "stream",
          "name": "stdout",
          "text": [
            "\n",
            " best loss: \t 0.00022230996\r\n",
            " best loss: \t 0.00021811354\r"
          ]
        },
        {
          "output_type": "stream",
          "name": "stderr",
          "text": [
            " 20%|██        | 40818/200000 [01:34<05:45, 460.85it/s]"
          ]
        },
        {
          "output_type": "stream",
          "name": "stdout",
          "text": [
            "\n",
            " best loss: \t 0.00021519841\r"
          ]
        },
        {
          "output_type": "stream",
          "name": "stderr",
          "text": [
            " 21%|██        | 41050/200000 [01:34<05:58, 443.29it/s]"
          ]
        },
        {
          "output_type": "stream",
          "name": "stdout",
          "text": [
            "\n",
            " best loss: \t 0.00021391049\r\n",
            " best loss: \t 0.00019650607\r"
          ]
        },
        {
          "output_type": "stream",
          "name": "stderr",
          "text": [
            " 21%|██        | 41184/200000 [01:34<06:03, 437.38it/s]"
          ]
        },
        {
          "output_type": "stream",
          "name": "stdout",
          "text": [
            "\n",
            " best loss: \t 0.0001685979\r"
          ]
        },
        {
          "output_type": "stream",
          "name": "stderr",
          "text": [
            " 21%|██        | 41551/200000 [01:35<05:54, 447.53it/s]"
          ]
        },
        {
          "output_type": "stream",
          "name": "stdout",
          "text": [
            "\n",
            " best loss: \t 0.00015877087\r"
          ]
        },
        {
          "output_type": "stream",
          "name": "stderr",
          "text": [
            " 21%|██        | 41690/200000 [01:36<05:48, 454.53it/s]"
          ]
        },
        {
          "output_type": "stream",
          "name": "stdout",
          "text": [
            "\n",
            " best loss: \t 0.00015621474\r"
          ]
        },
        {
          "output_type": "stream",
          "name": "stderr",
          "text": [
            " 31%|███▏      | 62810/200000 [02:21<05:06, 446.95it/s]"
          ]
        },
        {
          "output_type": "stream",
          "name": "stdout",
          "text": [
            "\n",
            " best loss: \t 0.00014635647\r"
          ]
        },
        {
          "output_type": "stream",
          "name": "stderr",
          "text": [
            " 31%|███▏      | 62948/200000 [02:22<05:07, 445.07it/s]"
          ]
        },
        {
          "output_type": "stream",
          "name": "stdout",
          "text": [
            "\n",
            " best loss: \t 0.0001386077\r"
          ]
        },
        {
          "output_type": "stream",
          "name": "stderr",
          "text": [
            " 59%|█████▉    | 118038/200000 [04:20<02:55, 467.91it/s]"
          ]
        },
        {
          "output_type": "stream",
          "name": "stdout",
          "text": [
            "\n",
            " best loss: \t 0.00012556919\r"
          ]
        },
        {
          "output_type": "stream",
          "name": "stderr",
          "text": [
            " 61%|██████    | 121843/200000 [04:29<02:50, 458.04it/s]"
          ]
        },
        {
          "output_type": "stream",
          "name": "stdout",
          "text": [
            "\n",
            " best loss: \t 0.00012299481\r\n",
            " best loss: \t 0.00011230221\r"
          ]
        },
        {
          "output_type": "stream",
          "name": "stderr",
          "text": [
            " 61%|██████    | 121938/200000 [04:29<02:50, 457.55it/s]"
          ]
        },
        {
          "output_type": "stream",
          "name": "stdout",
          "text": [
            "\n",
            " best loss: \t 9.231121e-05\r"
          ]
        },
        {
          "output_type": "stream",
          "name": "stderr",
          "text": [
            " 63%|██████▎   | 125307/200000 [04:36<02:47, 445.67it/s]"
          ]
        },
        {
          "output_type": "stream",
          "name": "stdout",
          "text": [
            "\n",
            " best loss: \t 8.539531e-05\r\n",
            " best loss: \t 7.606297e-05\r\n",
            " best loss: \t 6.268796e-05\r\n",
            " best loss: \t 5.1409254e-05\r"
          ]
        },
        {
          "output_type": "stream",
          "name": "stderr",
          "text": [
            " 65%|██████▍   | 129588/200000 [04:45<02:31, 464.19it/s]"
          ]
        },
        {
          "output_type": "stream",
          "name": "stdout",
          "text": [
            "\n",
            " best loss: \t 5.1276198e-05\r"
          ]
        },
        {
          "output_type": "stream",
          "name": "stderr",
          "text": [
            " 66%|██████▌   | 131029/200000 [04:48<02:29, 461.07it/s]"
          ]
        },
        {
          "output_type": "stream",
          "name": "stdout",
          "text": [
            "\n",
            " best loss: \t 4.928775e-05\r\n",
            " best loss: \t 4.7891528e-05\r"
          ]
        },
        {
          "output_type": "stream",
          "name": "stderr",
          "text": [
            " 66%|██████▌   | 131552/200000 [04:49<02:25, 469.15it/s]"
          ]
        },
        {
          "output_type": "stream",
          "name": "stdout",
          "text": [
            "\n",
            " best loss: \t 4.5634006e-05\r"
          ]
        },
        {
          "output_type": "stream",
          "name": "stderr",
          "text": [
            " 66%|██████▌   | 131885/200000 [04:50<02:35, 436.95it/s]"
          ]
        },
        {
          "output_type": "stream",
          "name": "stdout",
          "text": [
            "\n",
            " best loss: \t 4.490542e-05\r\n",
            " best loss: \t 3.8909224e-05\r\n",
            " best loss: \t 3.7878213e-05\r\n",
            " best loss: \t 3.7201702e-05\r"
          ]
        },
        {
          "output_type": "stream",
          "name": "stderr",
          "text": [
            "100%|██████████| 200000/200000 [07:18<00:00, 456.32it/s]"
          ]
        },
        {
          "output_type": "stream",
          "name": "stdout",
          "text": [
            "\n",
            "\n",
            "Value error:  0.00035308368\n",
            "Consumption error :  8.123165e-06\n",
            "Boundary error :  0.0\n",
            "Sum of errors:  0.00036120685\n"
          ]
        },
        {
          "output_type": "stream",
          "name": "stderr",
          "text": [
            "\n"
          ]
        }
      ]
    },
    {
      "cell_type": "markdown",
      "metadata": {
        "id": "8r_2U6s7n-XN"
      },
      "source": [
        "Plots: \n",
        "\n",
        "\n",
        "*   error associated with total loss\n",
        "*   error associated with HJB equation\n",
        "*   error associated with boundary conditions\n",
        "*   plot of consumption - policy function  approximation (compared with finite differences method)\n",
        "*   plot of value function approximation (compared with finite differences method)"
      ]
    },
    {
      "cell_type": "code",
      "metadata": {
        "id": "OH1m0JoR8O9e"
      },
      "source": [
        "%%capture \n",
        "# using %%capture  eliminates unnecessary verbose\n",
        "# Get Ben Moll's files for comparison from public Dropbox: \n",
        "!wget -O BEN_C.csv https://www.dropbox.com/s/pharxlhcd2s842m/BEN_C.csv?dl=0\n",
        "!wget -O BEN_V.csv https://www.dropbox.com/s/sxophxyw6i21rak/BEN_V.csv?dl=0\n",
        "# If this cell does not work, you can manually upload the files clicking the folder on the left of Google colab"
      ],
      "execution_count": null,
      "outputs": []
    },
    {
      "cell_type": "code",
      "metadata": {
        "id": "zk2BQlhNZTwW",
        "colab": {
          "base_uri": "https://localhost:8080/",
          "height": 1000
        },
        "outputId": "a9897390-d185-4ba2-eb34-eb58e232de4c"
      },
      "source": [
        "###############################################################################\n",
        "################################### Plotting ##################################\n",
        "###############################################################################\n",
        "\n",
        "# Define plotting grid\n",
        "K = tf.cast(np.linspace(kMin, kMax, gridSize).reshape(gridSize, 1), tf.float32)\n",
        "\n",
        "# Import reference results\n",
        "reference_V = np.genfromtxt('/content/BEN_V.csv')\n",
        "reference_C = np.genfromtxt('/content/BEN_C.csv')\n",
        "\n",
        "#os.mkdir('results_policy_function_with_reference')\n",
        "#os.chdir('results_policy_function_with_reference')\n",
        "\n",
        "matplotlib.rcParams.update({'legend.fontsize': 15, 'axes.labelsize': 14, 'axes.titlesize': 14})\n",
        "# Plot value loss function (as sqrt)\n",
        "fig = plt.figure()\n",
        "plt.plot(lossesV)\n",
        "plt.rc('text', usetex=False)\n",
        "plt.rc('font', family='sans-serif', serif = 'Computer Modern Sans serif')\n",
        "plt.xscale('log')\n",
        "plt.yscale('log')\n",
        "plt.xlabel('Number of iterations')\n",
        "plt.ylabel('Value Loss')\n",
        "# plt.title('Value Loss Evolution')\n",
        "plt.grid(alpha=0.2)\n",
        "#fig.savefig('Value_Loss.png')\n",
        "\n",
        "# Plot consumption FOC loss function (as sqrt)\n",
        "fig = plt.figure()\n",
        "plt.plot(lossesC)\n",
        "plt.rc('text', usetex=False)\n",
        "plt.rc('font', family='sans-serif', serif = 'Computer Modern Sans serif')\n",
        "plt.xscale('log')\n",
        "plt.yscale('log')\n",
        "plt.xlabel('Number of iterations')\n",
        "plt.ylabel('Consumption FOC Loss')\n",
        "# plt.title('Consumption Loss Evolution')\n",
        "plt.grid(alpha=0.2)\n",
        "#fig.savefig('C_Loss.png')\n",
        "\n",
        "# Plot boundary loss function\n",
        "fig = plt.figure()\n",
        "plt.plot(lossesB)\n",
        "plt.rc('text', usetex=False)\n",
        "plt.rc('font', family='sans-serif', serif = 'Computer Modern Sans serif')\n",
        "plt.xscale('log')\n",
        "plt.yscale('log')\n",
        "plt.xlabel('Number of iterations')\n",
        "plt.ylabel('Boundary Loss')\n",
        "# plt.title('Consumption Loss Evolution')\n",
        "plt.grid(alpha=0.2)\n",
        "#fig.savefig('C_Loss.png')\n",
        "\n",
        "# Plot Total loss (lossesV + lossesC + lossesB)\n",
        "fig = plt.figure()\n",
        "plt.plot(total_losses)\n",
        "plt.rc('text', usetex=False)\n",
        "plt.rc('font', family='sans-serif', serif = 'Computer Modern Sans serif')\n",
        "plt.xscale('log')\n",
        "plt.yscale('log')\n",
        "plt.xlabel('Number of iterations')\n",
        "plt.ylabel('Total Loss')\n",
        "# plt.title('Consumption Loss Evolution')\n",
        "plt.grid(alpha=0.2)\n",
        "#fig.savefig('C_Loss.png')\n",
        "\n",
        "# Plot value function\n",
        "fig = plt.figure()\n",
        "plt.plot(K, VF(K), color = \"tab:blue\", label = \"Neural Network Approximation\", linewidth = 3, linestyle=':')\n",
        "plt.plot(K, reference_V, color= \"tab:orange\", label = \"Finite Difference Scheme\", linewidth = 3, linestyle=(0, (5, 2, 1, 2)), dash_capstyle='round')\n",
        "plt.rc('text', usetex=False)\n",
        "plt.rc('font', family='sans-serif', serif = 'Computer Modern Sans serif')\n",
        "plt.xlabel('Capital')\n",
        "plt.ylabel('Value')\n",
        "# plt.title('Value Function')\n",
        "plt.legend(loc = \"lower right\")\n",
        "plt.grid(alpha=0.2)\n",
        "#fig.savefig('Value_Function.png')\n",
        "\n",
        "# Plot consumption policy function\n",
        "fig = plt.figure()\n",
        "plt.plot(K, tf.exp(CF(K)), color = \"tab:blue\", label = \"Neural Network Approximation\", linewidth = 3, linestyle=':')\n",
        "plt.plot(K, reference_C, color= \"tab:orange\", label = \"Finite Difference Scheme\", linewidth = 3, linestyle=(0, (5, 2, 1, 2)), dash_capstyle='round')\n",
        "plt.rc('text', usetex=False)\n",
        "plt.rc('font', family='sans-serif', serif = 'Computer Modern Sans serif')\n",
        "plt.xlabel('Capital')\n",
        "plt.ylabel('Consumption')\n",
        "# plt.title('Consumption Policy Function')\n",
        "plt.legend(loc = \"lower right\")\n",
        "plt.grid(alpha=0.2)\n",
        "#fig.savefig('C_function.png')"
      ],
      "execution_count": null,
      "outputs": [
        {
          "output_type": "display_data",
          "data": {
            "image/png": "[encoded data removed]",
            "text/plain": [
              "<Figure size 432x288 with 1 Axes>"
            ]
          },
          "metadata": {
            "needs_background": "light"
          }
        },
        {
          "output_type": "display_data",
          "data": {
            "image/png": "[encoded data removed]",
            "text/plain": [
              "<Figure size 432x288 with 1 Axes>"
            ]
          },
          "metadata": {
            "needs_background": "light"
          }
        },
        {
          "output_type": "display_data",
          "data": {
            "image/png": "[encoded data removed]",
            "text/plain": [
              "<Figure size 432x288 with 1 Axes>"
            ]
          },
          "metadata": {
            "needs_background": "light"
          }
        },
        {
          "output_type": "display_data",
          "data": {
            "image/png": "[encoded data removed]",
            "text/plain": [
              "<Figure size 432x288 with 1 Axes>"
            ]
          },
          "metadata": {
            "needs_background": "light"
          }
        },
        {
          "output_type": "display_data",
          "data": {
            "image/png": "[encoded data removed]",
            "text/plain": [
              "<Figure size 432x288 with 1 Axes>"
            ]
          },
          "metadata": {
            "needs_background": "light"
          }
        },
        {
          "output_type": "display_data",
          "data": {
            "image/png": "[encoded data removed]",
            "text/plain": [
              "<Figure size 432x288 with 1 Axes>"
            ]
          },
          "metadata": {
            "needs_background": "light"
          }
        }
      ]
    },
    {
      "cell_type": "code",
      "metadata": {
        "id": "QvGzmCHTLFhE",
        "outputId": "bd4c26ca-5385-489e-d2a7-6b03cc46ec7c",
        "colab": {
          "base_uri": "https://localhost:8080/"
        }
      },
      "source": [
        "''' \n",
        "python 3 \n",
        "This program checks for the current weather online and outputs the temperature and humidity in London \n",
        "'''\n",
        "\n",
        "import requests\n",
        "import json\n",
        "\n",
        "def main():\n",
        "    url = 'http://api.openweathermap.org/data/2.5/weather?q=London,uk&APPID=d1a7ed688e1b9155f95106d9a55b9ab0'\n",
        "    response = requests.get(url)\n",
        "    data = response.json()\n",
        "    print(data)\n",
        "    print(data['main']['temp'])\n",
        "    print(data['main']['humidity'])\n",
        "\n",
        "if __name__ == '__main__':\n",
        "    main()"
      ],
      "execution_count": null,
      "outputs": [
        {
          "output_type": "stream",
          "name": "stdout",
          "text": [
            "{'coord': {'lon': -0.1257, 'lat': 51.5085}, 'weather': [{'id': 803, 'main': 'Clouds', 'description': 'broken clouds', 'icon': '04n'}], 'base': 'stations', 'main': {'temp': 281.1, 'feels_like': 278.57, 'temp_min': 279.64, 'temp_max': 282.13, 'pressure': 1019, 'humidity': 79}, 'visibility': 10000, 'wind': {'speed': 4.12, 'deg': 310}, 'clouds': {'all': 75}, 'dt': 1636049696, 'sys': {'type': 2, 'id': 2019646, 'country': 'GB', 'sunrise': 1636009165, 'sunset': 1636043320}, 'timezone': 0, 'id': 2643743, 'name': 'London', 'cod': 200}\n",
            "281.1\n",
            "79\n"
          ]
        }
      ]
    },
    {
      "cell_type": "markdown",
      "metadata": {
        "id": "wq_a_Ini21Av"
      },
      "source": [
        "Miscellanea: \n",
        "\n",
        "*   For an introductory course on Deep Learning, see [GoogleDeepmind x University College of London ](https://www.youtube.com/watch?v=7R52wiUgxZI&list=PLqYmG7hTraZCDxZ44o4p3N5Anz3lLRVZF&index=1&ab_channel=DeepMind)\n",
        "*   For other Colab notebooks to learn Deep Learning see the [online material from the book \"deep learning with python\" by F.Chollet.](https://github.com/fchollet/deep-learning-with-python-notebooks)\n",
        "* Google colab offers free GPUs (Runtime -> Change Runtime type). However, in this particular exercise, because of the small dimensions of our neural network, it is actually faster to use the CPU. If you suspect your NN is big enough to gain from GPU acceleration, run a few epochs using both and see by yourself which one goes faster.   \n",
        "\n",
        "* If for your particular problem you see that it has not yet converged, it could be for different reasons. The most commons: \n",
        "    * Has it been running for enough epochs? If the graph *losses* looks like it would keep decreasing, this could be a solution.  \n",
        "    * Have all constraints been included (e.g. boundary conditions)? Plot all relevant variables and check whether the values make sense or are too high/low/negative.  \n",
        "    * maybe *dt* is too small: i.e. the real dynamics would lead to values crossing the boundary, but because *dt* is too small, but in the approximations it doesn't. Compensate sampling a bigger batch (increasing the chance that a boundary violation will happen) or bigger dt. \n",
        "    * maybe *dt* is too big: in the real dynamics we do not cross the boundary, but because *dt* is too big, it looks like we do. Try a smaller *dt*.\n",
        "    * Boundary conditions keep being violated and you checked everything else? Maybe $\\Psi$ is not big enough. \n",
        "    * The output is Nan (not a number): maybe in some point of the simulation, some elements went to infinity (usually because of a division by 0). Try tf.where( Variable_going_to_inf > 1E-7 , Variable_going_to_inf, 1E-7) or Variable_going_to_inf = tf.maximum(Variable_going_to_inf, 1E-7). \n",
        "\n",
        "\n",
        "$ $\n",
        "\n"
      ]
    },
    {
      "cell_type": "markdown",
      "metadata": {
        "id": "47Wyju746-aj"
      },
      "source": [
        "Authors: \n",
        "\n",
        "Jesús Fernández-Villaverde (University of Pennsylvania, NBER and CEPR)\n",
        "\n",
        "Roberto-Rafael Maura-Rivero (London School of Economics)\n",
        "\n",
        "Galo Nuño (Banco de España) \n",
        "\n",
        "George Sorg-Langhans (Princeton University)\n",
        "\n",
        "Maximilian Vogler (Princeton University)\n",
        "\n",
        "\n",
        "\n"
      ]
    }
  ]
}